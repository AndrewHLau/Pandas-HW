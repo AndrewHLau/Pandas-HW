{
 "cells": [
  {
   "cell_type": "markdown",
   "metadata": {},
   "source": [
    "### Note\n",
    "* Instructions have been included for each segment. You do not have to follow them exactly, but they are included to help you think through the steps."
   ]
  },
  {
   "cell_type": "code",
   "execution_count": 1,
   "metadata": {},
   "outputs": [],
   "source": [
    "# Dependencies and Setup\n",
    "import pandas as pd\n",
    "\n",
    "# File to Load (Remember to Change These)\n",
    "file_to_load = \"Resources/purchase_data.csv\"\n",
    "\n",
    "# Read Purchasing File and store into Pandas data frame\n",
    "purchase_data = pd.read_csv(file_to_load)"
   ]
  },
  {
   "cell_type": "markdown",
   "metadata": {},
   "source": [
    "## Player Count"
   ]
  },
  {
   "cell_type": "markdown",
   "metadata": {},
   "source": [
    "* Display the total number of players\n"
   ]
  },
  {
   "cell_type": "code",
   "execution_count": 2,
   "metadata": {},
   "outputs": [
    {
     "data": {
      "text/plain": [
       "Purchase ID      int64\n",
       "SN              object\n",
       "Age              int64\n",
       "Gender          object\n",
       "Item ID          int64\n",
       "Item Name       object\n",
       "Price          float64\n",
       "dtype: object"
      ]
     },
     "execution_count": 2,
     "metadata": {},
     "output_type": "execute_result"
    }
   ],
   "source": [
    "# always look at datatypes first\n",
    "purchase_data.dtypes"
   ]
  },
  {
   "cell_type": "code",
   "execution_count": 3,
   "metadata": {},
   "outputs": [
    {
     "data": {
      "text/plain": [
       "576"
      ]
     },
     "execution_count": 3,
     "metadata": {},
     "output_type": "execute_result"
    }
   ],
   "source": [
    "#Use Len to display the total number of players\n",
    "total_player = len(purchase_data[\"SN\"].unique())\n",
    "total_player"
   ]
  },
  {
   "cell_type": "code",
   "execution_count": 4,
   "metadata": {},
   "outputs": [
    {
     "name": "stdout",
     "output_type": "stream",
     "text": [
      "780\n"
     ]
    }
   ],
   "source": [
    "#Use Len to display the total number of players\n",
    "print(len(purchase_data[\"Purchase ID\"]))"
   ]
  },
  {
   "cell_type": "code",
   "execution_count": 5,
   "metadata": {},
   "outputs": [
    {
     "name": "stdout",
     "output_type": "stream",
     "text": [
      "576\n"
     ]
    }
   ],
   "source": [
    "# Number of Unique players\n",
    "print(len(purchase_data[\"SN\"].unique()))"
   ]
  },
  {
   "cell_type": "code",
   "execution_count": 6,
   "metadata": {},
   "outputs": [
    {
     "data": {
      "text/plain": [
       "array(['Lisim78', 'Lisovynya38', 'Ithergue48', 'Chamassasya86',\n",
       "       'Iskosia90', 'Yalae81', 'Itheria73', 'Iskjaskst81', 'Undjask33',\n",
       "       'Chanosian48', 'Inguron55', 'Haisrisuir60', 'Saelaephos52',\n",
       "       'Assjaskan73', 'Saesrideu94', 'Lisassa64', 'Lisirra25',\n",
       "       'Zontibe81', 'Reunasu60', 'Chamalo71', 'Iathenudil29',\n",
       "       'Phiarithdeu40', 'Siarithria38', 'Eyrian71', 'Siala43',\n",
       "       'Lisirra87', 'Lirtossa84', 'Eusri44', 'Aela59', 'Tyida79',\n",
       "       'Idai61', 'Farusrian86', 'Aeralria27', 'Haillyrgue51', 'Sondim73',\n",
       "       'Jeyciman68', 'Idaisuir85', 'Seuthep89', 'Reulae52',\n",
       "       'Sondilsaya62', 'Aerithriaphos45', 'Assosia88', 'Aidaillodeu39',\n",
       "       'Aelly27', 'Tyeosri53', 'Haerith37', 'Yasrisu92', 'Chanuchi25',\n",
       "       'Asur96', 'Iaralrgue74', 'Chanosia34', 'Aelin32', 'Ilosianya35',\n",
       "       'Zhisrisu83', 'Phaelap26', 'Raesty92', 'Palyon91', 'Tyisur83',\n",
       "       'Yaliru88', 'Yadanu52', 'Jiskimya77', 'Yadaphos40', 'Alo38',\n",
       "       'Phaena87', 'Chamirraya83', 'Chanastsda67', 'Indonmol95',\n",
       "       'Jiskossa61', 'Pheodai94', 'Hari50', 'Marilsa69', 'Assistasda42',\n",
       "       'Lisosia93', 'Philodil43', 'Mindadaran26', 'Lirtosia63',\n",
       "       'Assjaskan56', 'Irithlis29', 'Heudai45', 'Haerithp41', 'Aina42',\n",
       "       'Jiskjask60', 'Umolrian85', 'Qarirwen82', 'Laedallo55',\n",
       "       'Eoralrap26', 'Undosian34', 'Chadolyla44', 'Chadistaya75',\n",
       "       'Yathedeu43', 'Aina43', 'Ilassast39', 'Lisassala98', 'Aiduecal76',\n",
       "       'Chadossa89', 'Pheodaisun84', 'Heollyriap59', 'Maropast28',\n",
       "       'Frichim77', 'Thryallym62', 'Eulanurin88', 'Lassjaskan73',\n",
       "       'Tyaerith73', 'Sondadarya58', 'Hirirap39', 'Ririp86', 'Sundim98',\n",
       "       'Iskichinya81', 'Phyali88', 'Undirrala66', 'Nitherian58',\n",
       "       'Lassilsala30', 'Frichaststa61', 'Frichosia58', 'Ilosia37',\n",
       "       'Lisista27', 'Seudaillorap38', 'Aesty53', 'Yathecal82',\n",
       "       'Lisossanya98', 'Iral74', 'Lisast87', 'Maridisya31', 'Jiskassa76',\n",
       "       'Ethriel85', 'Iskirra45', 'Iri67', 'Rarallo90', 'Lisasi93',\n",
       "       'Adastirin33', 'Eyista89', 'Ili43', 'Chamirra53', 'Hailaphos89',\n",
       "       'Iskadarya95', 'Qilatista90', 'Inasti31', 'Marilsanya48',\n",
       "       'Marjask87', 'Chanjaskan89', 'Hyaduesu61', 'Aillyrin83',\n",
       "       'Marast30', 'Sundadar27', 'Tyaelorap29', 'Lirtimst73',\n",
       "       'Styaduen40', 'Sidap51', 'Chanastst38', 'Lirtassa52', 'Sondim68',\n",
       "       'Aeral97', 'Heosurnuru52', 'Lisopela58', 'Caesrinusuir82',\n",
       "       'Tyirinu79', 'Fironon91', 'Lassjask63', 'Indcil77', 'Chamimla73',\n",
       "       'Syathe73', 'Baelollodeu94', 'Mindista32', 'Saena74',\n",
       "       'Marirrasta50', 'Lamil79', 'Aenarap34', 'Aisur51', 'Thrientossa55',\n",
       "       'Chadista79', 'Tyeurith29', 'Malunil62', 'Hiasri33', 'Lisadar44',\n",
       "       'Frichjask31', 'Lisjaskya84', 'Ristydru66', 'Frichast28',\n",
       "       'Minduri31', 'Maradaran90', 'Mindetosya30', 'Ialallo29',\n",
       "       'Pheusrical25', 'Chanosia60', 'Phistym51', 'Aelollo59',\n",
       "       'Chamimla85', 'Haisurra41', 'Sondastsda82', 'Qilanrion65',\n",
       "       'Eulasuir89', 'Eosrirgue62', 'Shaidanu32', 'Lirtastan49',\n",
       "       'Iaralsuir44', 'Tyeudariasuir90', 'Cosadar58', 'Aelastirin39',\n",
       "       'Aidai53', 'Jiskjask85', 'Ealrion88', 'Chamjask73', 'Tyaenasti87',\n",
       "       'Alim85', 'Haeladil46', 'Jiskirran77', 'Undosia27', 'Peorith44',\n",
       "       'Yarithsurgue62', 'Taeduenu92', 'Rairin89', 'Aerithriaphos46',\n",
       "       'Idairin51', 'Lisista54', 'Eodailis27', 'Lirtastsda29',\n",
       "       'Undilsan50', 'Eodaisu60', 'Quaranmol58', 'Lirtossa60',\n",
       "       'Lirtilsa71', 'Isursuir31', 'Sundirrala66', 'Saerallora71',\n",
       "       'Iasur80', 'Tyaelo67', 'Quanunwen42', 'Yasur35', 'Assehoan67',\n",
       "       'Haellysu29', 'Saida58', 'Chamadar79', 'Aeral43', 'Lirtirra37',\n",
       "       'Tyidaim51', 'Lassassast73', 'Assassasta79', 'Heollyra92',\n",
       "       'Anallorgue57', 'Aerithllora36', 'Smaistysu35', 'Ennalmol65',\n",
       "       'Yarithrgue83', 'Yana46', 'Sondimla25', 'Aidai61', 'Wailin72',\n",
       "       'Firan91', 'Alaesu91', 'Aellynun67', 'Rilaera56', 'Eulaestira36',\n",
       "       'Marim28', 'Idastidru52', 'Ilirrasda54', 'Alaephos75',\n",
       "       'Syalollorap93', 'Minduli80', 'Chanastya70', 'Frichadaran88',\n",
       "       'Siallylis44', 'Aeri84', 'Iasursti71', 'Mindilsa34', 'Chamastya76',\n",
       "       'Undirra73', 'Aestysu37', 'Chadadarla74', 'Strithenu87',\n",
       "       'Iasrira89', 'Ialidru40', 'Tyalaesu89', 'Tyidainu31', 'Lirtilsa72',\n",
       "       'Undjaskla97', 'Saedaiphos46', 'Aerithnucal56', 'Lisossa46',\n",
       "       'Layjask75', 'Lisista63', 'Ceoral34', 'Hilaerin92',\n",
       "       'Chadilsasta32', 'Undassa89', 'Iduenu77', 'Lisosia66',\n",
       "       'Undimsya85', 'Phaedue89', 'Yadacal26', 'Lisossa25', 'Ilmol66',\n",
       "       'Yastyriaphos75', 'Hiasurria41', 'Palatyon26', 'Qilalista41',\n",
       "       'Hada39', 'Chamilsala65', 'Rairith81', 'Ilarin91', 'Ryanara76',\n",
       "       'Undista85', 'Tyeoralru41', 'Pheosrinudeu70', 'Heuli25',\n",
       "       'Pheutherin27', 'Chadirra90', 'Ali84', 'Frichjaskan98', 'Malil90',\n",
       "       'Yarithllodeu72', 'Tyaedainu44', 'Ethron58', 'Eusurdeu49',\n",
       "       'Saistyphos30', 'Saisrilis27', 'Hallysucal81', 'Ilimya66',\n",
       "       'Raysistast71', 'Haedairiadru51', 'Tyananurgue44', 'Risty84',\n",
       "       'Aerillorin70', 'Phistyn52', 'Yalo85', 'Chamirrasya33', 'Hiral75',\n",
       "       'Isursti83', 'Bartassaya73', 'Aeda94', 'Quinarap53', 'Asur53',\n",
       "       'Alarap40', 'Sida61', 'Hiarideu73', 'Lassassasda30', 'Ennoncil86',\n",
       "       'Siralsudeu54', 'Eusri26', 'Ardcil81', 'Marilsasya33', 'Lirtim36',\n",
       "       'Heunadil74', 'Frichadar89', 'Aesurstilis64', 'Idaidil28',\n",
       "       'Lisotesta51', 'Lisico81', 'Lisiriya82', 'Siana77', 'Marokian45',\n",
       "       'Sausosia74', 'Assesi91', 'Eusri70', 'Aisurria69', 'Iarilis73',\n",
       "       'Raisty38', 'Ilista82', 'Leyirra83', 'Aiduesu86', 'Frichynde86',\n",
       "       'Hisridru55', 'Chamossa77', 'Irillo49', 'Lirtastsya71',\n",
       "       'Frichosiala98', 'Qilunan34', 'Quarrion42', 'Aisurdru79',\n",
       "       'Hiaral50', 'Iarallo65', 'Sondassasya91', 'Chanossast57',\n",
       "       'Chanjask65', 'Ethralista69', 'Sondistanya61', 'Eudanu32',\n",
       "       'Euthe35', 'Lassimla92', 'Lisossala30', 'Eulae84', 'Chamadarnya73',\n",
       "       'Eolan54', 'Assistasda90', 'Ennrian78', 'Undirrasta89',\n",
       "       'Rianistast50', 'Undare39', 'Adairialis76', 'Aesur96',\n",
       "       'Tyialisudeu65', 'Arirgue63', 'Sundadarla27', 'Eyircil84', 'Ina92',\n",
       "       'Lirtistanya48', 'Marassa62', 'Mindossa76', 'Salilis27',\n",
       "       'Sondossa69', 'Sundjask71', 'Errian63', 'Eurithphos97',\n",
       "       'Raillydeu47', 'Malon70', 'Jiskimsda56', 'Marughi89', 'Ingatcil75',\n",
       "       'Chanirrasta87', 'Alaesu77', 'Ermol76', 'Tyeuduen32', 'Firon67',\n",
       "       'Iadueria43', 'Pheulidil31', 'Eodairu79', 'Frichocesta66',\n",
       "       'Thourdirra92', 'Chanastnya43', 'Iskim96', 'Eulolis41',\n",
       "       'Sastydeu50', 'Ilaesudil92', 'Yasur85', 'Aidain51',\n",
       "       'Aerithnuphos61', 'Yalostiphos68', 'Meosridil82', 'Aillyriadru65',\n",
       "       'Sally64', 'Lisim51', 'Isurria36', 'Silaera56', 'Leetirraya83',\n",
       "       'Lirtirra81', 'Eryon48', 'Iana95', 'Sondassan80', 'Chanadar44',\n",
       "       'Eosurdru76', 'Shidai42', 'Aesri53', 'Syally44', 'Jiskadarst60',\n",
       "       'Sondadar26', 'Malarrian73', 'Maluncil97', 'Ilunyon70', 'Yadam35',\n",
       "       'Dyally87', 'Pheosurllorin41', 'Frichaya88', 'Lassadarsda57',\n",
       "       'Marynde90', 'Isri34', 'Assastnya25', 'Ardonmol96',\n",
       "       'Lassirrasda85', 'Chadossa56', 'Poshilsa82', 'Yoishirrala98',\n",
       "       'Sundista37', 'Ilassa51', 'Filurarn35', 'Phaestycal84', 'Irilis75',\n",
       "       'Aeralstical35', 'Chanirrala39', 'Chanirra79', 'Assirra56',\n",
       "       'Seolollo93', 'Iathem87', 'Iasurriacal29', 'Lisast98', 'Filrion59',\n",
       "       'Halaecal66', 'Iskosian40', 'Ilastilis78', 'Seosrim97',\n",
       "       'Farrian71', 'Rithe53', 'Frichossala54', 'Chamjaskya75',\n",
       "       'Quanrion96', 'Tyaelaelis94', 'Quanenrian83', 'Chanirra64',\n",
       "       'Yadaisuir65', 'Syathecal44', 'Arin32', 'Aelaria33', 'Assassa81',\n",
       "       'Filrion83', 'Eoral49', 'Airi27', 'Eurisuru25', 'Liawista80',\n",
       "       'Lisirra58', 'Chamadarsda63', 'Haestyphos66', 'Phaedasurap84',\n",
       "       'Mindimnya67', 'Chadjask85', 'Eustyria89', 'Iskim66', 'Chamast86',\n",
       "       'Lirtassan78', 'Ethrasyon38', 'Quilassa66', 'Lisassasda39',\n",
       "       'Mindilsa60', 'Lalossa38', 'Chamistast30', 'Hariphos58',\n",
       "       'Assilsan72', 'Inasuir29', 'Chanilsasda38', 'Mindesi74',\n",
       "       'Ililsan66', 'Idacal95', 'Aeral68', 'Tyarithn67', 'Asty82',\n",
       "       'Yalaeria91', 'Chadjask77', 'Ealiril69', 'Quaecjask96',\n",
       "       'Firatan58', 'Yarolwen77', 'Tyaelistidru84', 'Yarithrin84',\n",
       "       'Tyaelly53', 'Phiristi62', 'Ililsasya43', 'Aithelis62',\n",
       "       'Undotesta33', 'Aelidru27', 'Chanossanya44', 'Maradarnya40',\n",
       "       'Lisilsa62', 'Saena89', 'Chanilsast61', 'Sundassa93', 'Aidai73',\n",
       "       'Indirrian56', 'Lisassasta50', 'Iduelis31', 'Chanosiaya39',\n",
       "       'Assylla81', 'Aidaira26', 'Eudanu84', 'Chamiman85', 'Tyialisti80',\n",
       "       'Marundi65', 'Eusur90', 'Mindirranya33', 'Phiallylis33', 'Isty55',\n",
       "       'Frichilsa31', 'Chanista95', 'Aellyria80', 'Rastynusuir31',\n",
       "       'Iljask75', 'Lisjaskan36', 'Mindjasksya61', 'Frichirranya75',\n",
       "       'Ilast79', 'Eratiel90', 'Assim27', 'Irith83', 'Ilosian36',\n",
       "       'Iskossasda43', 'Hala31', 'Jiskjask80', 'Aethedru70', 'Yathecal72',\n",
       "       'Sisur91'], dtype=object)"
      ]
     },
     "execution_count": 6,
     "metadata": {},
     "output_type": "execute_result"
    }
   ],
   "source": [
    "sn_unique = purchase_data[\"SN\"].unique()\n",
    "sn_unique"
   ]
  },
  {
   "cell_type": "markdown",
   "metadata": {},
   "source": [
    "## Purchasing Analysis (Total)"
   ]
  },
  {
   "cell_type": "markdown",
   "metadata": {},
   "source": [
    "* Run basic calculations to obtain number of unique items, average price, etc.\n",
    "\n",
    "\n",
    "* Create a summary data frame to hold the results\n",
    "\n",
    "\n",
    "* Optional: give the displayed data cleaner formatting\n",
    "\n",
    "\n",
    "* Display the summary data frame\n"
   ]
  },
  {
   "cell_type": "code",
   "execution_count": 7,
   "metadata": {
    "scrolled": true
   },
   "outputs": [
    {
     "name": "stdout",
     "output_type": "stream",
     "text": [
      "183\n"
     ]
    }
   ],
   "source": [
    "# Number of Unique items\n",
    "print(len(purchase_data[\"Item ID\"].unique()))"
   ]
  },
  {
   "cell_type": "code",
   "execution_count": 8,
   "metadata": {},
   "outputs": [
    {
     "name": "stdout",
     "output_type": "stream",
     "text": [
      "3.050987179487176\n"
     ]
    }
   ],
   "source": [
    "#Calculate average price\n",
    "print(purchase_data[\"Price\"].mean())\n",
    "#Create variable for average price\n",
    "average_price = purchase_data[\"Price\"].mean()"
   ]
  },
  {
   "cell_type": "code",
   "execution_count": 9,
   "metadata": {},
   "outputs": [
    {
     "name": "stdout",
     "output_type": "stream",
     "text": [
      "3.05\n"
     ]
    }
   ],
   "source": [
    "print(format(average_price,\".2f\"))"
   ]
  },
  {
   "cell_type": "code",
   "execution_count": 10,
   "metadata": {},
   "outputs": [
    {
     "data": {
      "text/plain": [
       "780"
      ]
     },
     "execution_count": 10,
     "metadata": {},
     "output_type": "execute_result"
    }
   ],
   "source": [
    "#Total Number of Purchases\n",
    "number_purchases = len(purchase_data[\"Purchase ID\"])\n",
    "number_purchases\n"
   ]
  },
  {
   "cell_type": "code",
   "execution_count": 11,
   "metadata": {},
   "outputs": [
    {
     "data": {
      "text/plain": [
       "2379.77"
      ]
     },
     "execution_count": 11,
     "metadata": {},
     "output_type": "execute_result"
    }
   ],
   "source": [
    "#Total Revenue\n",
    "total_revenue = purchase_data[\"Price\"].sum()\n",
    "total_revenue"
   ]
  },
  {
   "cell_type": "markdown",
   "metadata": {},
   "source": [
    "## Gender Demographics"
   ]
  },
  {
   "cell_type": "markdown",
   "metadata": {},
   "source": [
    "* Percentage and Count of Male Players\n",
    "\n",
    "\n",
    "* Percentage and Count of Female Players\n",
    "\n",
    "\n",
    "* Percentage and Count of Other / Non-Disclosed\n",
    "\n",
    "\n"
   ]
  },
  {
   "cell_type": "code",
   "execution_count": 12,
   "metadata": {},
   "outputs": [
    {
     "data": {
      "text/plain": [
       "484"
      ]
     },
     "execution_count": 12,
     "metadata": {},
     "output_type": "execute_result"
    }
   ],
   "source": [
    "#Percentage and Count of Male Players\n",
    "male_data = purchase_data.loc[purchase_data['Gender'] == \"Male\"]\n",
    "grouped_male_data = male_data.groupby(['SN'])\n",
    "number_male = len(grouped_male_data)\n",
    "number_male"
   ]
  },
  {
   "cell_type": "code",
   "execution_count": 13,
   "metadata": {},
   "outputs": [
    {
     "name": "stdout",
     "output_type": "stream",
     "text": [
      "84.027778%\n"
     ]
    }
   ],
   "source": [
    "percentage_male = number_male / total_player\n",
    "print(format(percentage_male, \"%\"))"
   ]
  },
  {
   "cell_type": "code",
   "execution_count": 14,
   "metadata": {},
   "outputs": [
    {
     "data": {
      "text/plain": [
       "81"
      ]
     },
     "execution_count": 14,
     "metadata": {},
     "output_type": "execute_result"
    }
   ],
   "source": [
    "#Percentage and Count of Female Players\n",
    "female_data = purchase_data.loc[purchase_data['Gender'] == \"Female\"]\n",
    "grouped_female_data = female_data.groupby(['SN'])\n",
    "number_female = len(grouped_female_data)\n",
    "number_female"
   ]
  },
  {
   "cell_type": "code",
   "execution_count": 15,
   "metadata": {},
   "outputs": [
    {
     "name": "stdout",
     "output_type": "stream",
     "text": [
      "14.062500%\n"
     ]
    }
   ],
   "source": [
    "percentage_female = number_female / total_player\n",
    "print(format(percentage_female, \"%\"))"
   ]
  },
  {
   "cell_type": "code",
   "execution_count": 16,
   "metadata": {},
   "outputs": [
    {
     "data": {
      "text/plain": [
       "11"
      ]
     },
     "execution_count": 16,
     "metadata": {},
     "output_type": "execute_result"
    }
   ],
   "source": [
    "#Percentage and Count of Other / Non-Disclosed\n",
    "other_data = purchase_data.loc[purchase_data['Gender'] == \"Other / Non-Disclosed\"]\n",
    "grouped_other_data = other_data.groupby(['SN'])\n",
    "number_other = len(grouped_other_data)\n",
    "number_other"
   ]
  },
  {
   "cell_type": "code",
   "execution_count": 17,
   "metadata": {},
   "outputs": [
    {
     "name": "stdout",
     "output_type": "stream",
     "text": [
      "1.909722%\n"
     ]
    }
   ],
   "source": [
    "percentage_other = number_other / total_player\n",
    "print(format(percentage_other, \"%\"))"
   ]
  },
  {
   "cell_type": "markdown",
   "metadata": {},
   "source": [
    "\n",
    "## Purchasing Analysis (Gender)"
   ]
  },
  {
   "cell_type": "markdown",
   "metadata": {},
   "source": [
    "* Run basic calculations to obtain purchase count, avg. purchase price, avg. purchase total per person etc. by gender\n",
    "\n",
    "\n",
    "\n",
    "\n",
    "* Create a summary data frame to hold the results\n",
    "\n",
    "\n",
    "* Optional: give the displayed data cleaner formatting\n",
    "\n",
    "\n",
    "* Display the summary data frame"
   ]
  },
  {
   "cell_type": "code",
   "execution_count": 18,
   "metadata": {},
   "outputs": [
    {
     "data": {
      "text/plain": [
       "652"
      ]
     },
     "execution_count": 18,
     "metadata": {},
     "output_type": "execute_result"
    }
   ],
   "source": [
    "male_purchases = len(male_data[\"Purchase ID\"])\n",
    "male_purchases"
   ]
  },
  {
   "cell_type": "code",
   "execution_count": 19,
   "metadata": {},
   "outputs": [
    {
     "data": {
      "text/plain": [
       "113"
      ]
     },
     "execution_count": 19,
     "metadata": {},
     "output_type": "execute_result"
    }
   ],
   "source": [
    "female_purchases = len(female_data[\"Purchase ID\"])\n",
    "female_purchases"
   ]
  },
  {
   "cell_type": "code",
   "execution_count": 20,
   "metadata": {},
   "outputs": [
    {
     "data": {
      "text/plain": [
       "15"
      ]
     },
     "execution_count": 20,
     "metadata": {},
     "output_type": "execute_result"
    }
   ],
   "source": [
    "other_purchases = len(other_data[\"Purchase ID\"])\n",
    "other_purchases"
   ]
  },
  {
   "cell_type": "code",
   "execution_count": 21,
   "metadata": {},
   "outputs": [
    {
     "name": "stdout",
     "output_type": "stream",
     "text": [
      "3.02\n"
     ]
    }
   ],
   "source": [
    "#Calculate male average price\n",
    "print(format(male_data[\"Price\"].mean(),\".2f\"))\n",
    "#Create variable for male average price\n",
    "male_avg_price = male_data[\"Price\"].mean()"
   ]
  },
  {
   "cell_type": "code",
   "execution_count": 22,
   "metadata": {},
   "outputs": [
    {
     "name": "stdout",
     "output_type": "stream",
     "text": [
      "3.20\n"
     ]
    }
   ],
   "source": [
    "#Calculate female average price\n",
    "print(format(female_data[\"Price\"].mean(),\".2f\"))\n",
    "#Create variable for female average price\n",
    "female_avg_price = female_data[\"Price\"].mean()"
   ]
  },
  {
   "cell_type": "code",
   "execution_count": 23,
   "metadata": {},
   "outputs": [
    {
     "name": "stdout",
     "output_type": "stream",
     "text": [
      "3.35\n"
     ]
    }
   ],
   "source": [
    "#Calculate other average price\n",
    "print(format(other_data[\"Price\"].mean(),\".2f\"))\n",
    "#Create variable for other average price\n",
    "other_avg_price = other_data[\"Price\"].mean()"
   ]
  },
  {
   "cell_type": "code",
   "execution_count": 24,
   "metadata": {},
   "outputs": [
    {
     "name": "stdout",
     "output_type": "stream",
     "text": [
      "1967.64\n"
     ]
    }
   ],
   "source": [
    "#Calculate male total purchase value\n",
    "print(male_data[\"Price\"].sum())\n",
    "#Create variable for male total purchase value\n",
    "male_sum_price = male_data[\"Price\"].sum()"
   ]
  },
  {
   "cell_type": "code",
   "execution_count": 25,
   "metadata": {},
   "outputs": [
    {
     "name": "stdout",
     "output_type": "stream",
     "text": [
      "361.94\n"
     ]
    }
   ],
   "source": [
    "#Calculate female total purchase value\n",
    "print(female_data[\"Price\"].sum())\n",
    "#Create variable for female total purchase value\n",
    "female_sum_price = female_data[\"Price\"].sum()"
   ]
  },
  {
   "cell_type": "code",
   "execution_count": 26,
   "metadata": {},
   "outputs": [
    {
     "name": "stdout",
     "output_type": "stream",
     "text": [
      "50.19\n"
     ]
    }
   ],
   "source": [
    "#Calculate other total purchase value\n",
    "print(other_data[\"Price\"].sum())\n",
    "#Create variable for other total purchase value\n",
    "other_sum_price = other_data[\"Price\"].sum()"
   ]
  },
  {
   "cell_type": "code",
   "execution_count": 27,
   "metadata": {},
   "outputs": [
    {
     "name": "stdout",
     "output_type": "stream",
     "text": [
      "4.07\n"
     ]
    }
   ],
   "source": [
    "#Avg Total Purchase per Male Person\n",
    "male_person_avg = male_sum_price/number_male\n",
    "print(format(male_person_avg,\".2f\"))"
   ]
  },
  {
   "cell_type": "code",
   "execution_count": 28,
   "metadata": {},
   "outputs": [
    {
     "name": "stdout",
     "output_type": "stream",
     "text": [
      "4.47\n"
     ]
    }
   ],
   "source": [
    "#Avg Total Purchase per female Person\n",
    "female_person_avg = female_sum_price/number_female\n",
    "print(format(female_person_avg,\".2f\"))"
   ]
  },
  {
   "cell_type": "code",
   "execution_count": 29,
   "metadata": {},
   "outputs": [
    {
     "name": "stdout",
     "output_type": "stream",
     "text": [
      "4.56\n"
     ]
    }
   ],
   "source": [
    "#Avg Total Purchase per other Person\n",
    "other_person_avg = other_sum_price/number_other\n",
    "print(format(other_person_avg,\".2f\"))"
   ]
  },
  {
   "cell_type": "code",
   "execution_count": 30,
   "metadata": {},
   "outputs": [
    {
     "data": {
      "text/html": [
       "<div>\n",
       "<style scoped>\n",
       "    .dataframe tbody tr th:only-of-type {\n",
       "        vertical-align: middle;\n",
       "    }\n",
       "\n",
       "    .dataframe tbody tr th {\n",
       "        vertical-align: top;\n",
       "    }\n",
       "\n",
       "    .dataframe thead th {\n",
       "        text-align: right;\n",
       "    }\n",
       "</style>\n",
       "<table border=\"1\" class=\"dataframe\">\n",
       "  <thead>\n",
       "    <tr style=\"text-align: right;\">\n",
       "      <th></th>\n",
       "      <th>Gender</th>\n",
       "      <th>Purchase Count</th>\n",
       "      <th>Average Purchase Price</th>\n",
       "      <th>Total Purchase Value</th>\n",
       "      <th>Avg Total Purchase per Person</th>\n",
       "    </tr>\n",
       "  </thead>\n",
       "  <tbody>\n",
       "    <tr>\n",
       "      <th>0</th>\n",
       "      <td>Male</td>\n",
       "      <td>652</td>\n",
       "      <td>3.017853</td>\n",
       "      <td>1967.64</td>\n",
       "      <td>4.065372</td>\n",
       "    </tr>\n",
       "    <tr>\n",
       "      <th>1</th>\n",
       "      <td>Female</td>\n",
       "      <td>113</td>\n",
       "      <td>3.203009</td>\n",
       "      <td>361.94</td>\n",
       "      <td>4.468395</td>\n",
       "    </tr>\n",
       "    <tr>\n",
       "      <th>2</th>\n",
       "      <td>Other / Non-Disclosed</td>\n",
       "      <td>15</td>\n",
       "      <td>3.346000</td>\n",
       "      <td>50.19</td>\n",
       "      <td>4.562727</td>\n",
       "    </tr>\n",
       "  </tbody>\n",
       "</table>\n",
       "</div>"
      ],
      "text/plain": [
       "                  Gender  Purchase Count  Average Purchase Price  \\\n",
       "0                   Male             652                3.017853   \n",
       "1                 Female             113                3.203009   \n",
       "2  Other / Non-Disclosed              15                3.346000   \n",
       "\n",
       "   Total Purchase Value  Avg Total Purchase per Person  \n",
       "0               1967.64                       4.065372  \n",
       "1                361.94                       4.468395  \n",
       "2                 50.19                       4.562727  "
      ]
     },
     "execution_count": 30,
     "metadata": {},
     "output_type": "execute_result"
    }
   ],
   "source": [
    "purchase_df = pd.DataFrame(\n",
    "    {\"Gender\": [\"Male\", \"Female\", \"Other / Non-Disclosed\"],\n",
    "     \"Purchase Count\": [male_purchases, female_purchases, other_purchases],\n",
    "     \"Average Purchase Price\": [male_avg_price, female_avg_price , other_avg_price ],\n",
    "     \"Total Purchase Value\": [male_sum_price, female_sum_price, other_sum_price],\n",
    "     \"Avg Total Purchase per Person\": [male_person_avg, female_person_avg, other_person_avg]\n",
    "     }\n",
    ")\n",
    "purchase_df"
   ]
  },
  {
   "cell_type": "markdown",
   "metadata": {},
   "source": [
    "## Age Demographics"
   ]
  },
  {
   "cell_type": "markdown",
   "metadata": {},
   "source": [
    "* Establish bins for ages\n",
    "\n",
    "\n",
    "* Categorize the existing players using the age bins. Hint: use pd.cut()\n",
    "\n",
    "\n",
    "* Calculate the numbers and percentages by age group\n",
    "\n",
    "\n",
    "* Create a summary data frame to hold the results\n",
    "\n",
    "\n",
    "* Optional: round the percentage column to two decimal points\n",
    "\n",
    "\n",
    "* Display Age Demographics Table\n"
   ]
  },
  {
   "cell_type": "code",
   "execution_count": 31,
   "metadata": {},
   "outputs": [],
   "source": [
    "# Create the bins in which Data will be held for ages\n",
    "# Bins are 0, 14.9, 19.9, 24.9, 29.9, 34.9, 39.9, 50.   \n",
    "bins = [0,9.9, 14.9, 19.9, 24.9, 29.9, 34.9, 39.9, 50]\n",
    "\n",
    "# Create the names for the 5 bins\n",
    "group_names = [\"<10\", \"10-14\", \"15-19\", \"20-24\", \"25-29\", \"30-34\", \"35-39\", \"40+\"]"
   ]
  },
  {
   "cell_type": "code",
   "execution_count": 32,
   "metadata": {},
   "outputs": [
    {
     "data": {
      "text/html": [
       "<div>\n",
       "<style scoped>\n",
       "    .dataframe tbody tr th:only-of-type {\n",
       "        vertical-align: middle;\n",
       "    }\n",
       "\n",
       "    .dataframe tbody tr th {\n",
       "        vertical-align: top;\n",
       "    }\n",
       "\n",
       "    .dataframe thead th {\n",
       "        text-align: right;\n",
       "    }\n",
       "</style>\n",
       "<table border=\"1\" class=\"dataframe\">\n",
       "  <thead>\n",
       "    <tr style=\"text-align: right;\">\n",
       "      <th></th>\n",
       "      <th>Purchase ID</th>\n",
       "      <th>SN</th>\n",
       "      <th>Age</th>\n",
       "      <th>Gender</th>\n",
       "      <th>Item ID</th>\n",
       "      <th>Item Name</th>\n",
       "      <th>Price</th>\n",
       "      <th>Age Ranges</th>\n",
       "    </tr>\n",
       "  </thead>\n",
       "  <tbody>\n",
       "    <tr>\n",
       "      <th>0</th>\n",
       "      <td>0</td>\n",
       "      <td>Lisim78</td>\n",
       "      <td>20</td>\n",
       "      <td>Male</td>\n",
       "      <td>108</td>\n",
       "      <td>Extraction, Quickblade Of Trembling Hands</td>\n",
       "      <td>3.53</td>\n",
       "      <td>20-24</td>\n",
       "    </tr>\n",
       "    <tr>\n",
       "      <th>1</th>\n",
       "      <td>1</td>\n",
       "      <td>Lisovynya38</td>\n",
       "      <td>40</td>\n",
       "      <td>Male</td>\n",
       "      <td>143</td>\n",
       "      <td>Frenzied Scimitar</td>\n",
       "      <td>1.56</td>\n",
       "      <td>40+</td>\n",
       "    </tr>\n",
       "    <tr>\n",
       "      <th>2</th>\n",
       "      <td>2</td>\n",
       "      <td>Ithergue48</td>\n",
       "      <td>24</td>\n",
       "      <td>Male</td>\n",
       "      <td>92</td>\n",
       "      <td>Final Critic</td>\n",
       "      <td>4.88</td>\n",
       "      <td>20-24</td>\n",
       "    </tr>\n",
       "    <tr>\n",
       "      <th>3</th>\n",
       "      <td>3</td>\n",
       "      <td>Chamassasya86</td>\n",
       "      <td>24</td>\n",
       "      <td>Male</td>\n",
       "      <td>100</td>\n",
       "      <td>Blindscythe</td>\n",
       "      <td>3.27</td>\n",
       "      <td>20-24</td>\n",
       "    </tr>\n",
       "    <tr>\n",
       "      <th>4</th>\n",
       "      <td>4</td>\n",
       "      <td>Iskosia90</td>\n",
       "      <td>23</td>\n",
       "      <td>Male</td>\n",
       "      <td>131</td>\n",
       "      <td>Fury</td>\n",
       "      <td>1.44</td>\n",
       "      <td>20-24</td>\n",
       "    </tr>\n",
       "    <tr>\n",
       "      <th>...</th>\n",
       "      <td>...</td>\n",
       "      <td>...</td>\n",
       "      <td>...</td>\n",
       "      <td>...</td>\n",
       "      <td>...</td>\n",
       "      <td>...</td>\n",
       "      <td>...</td>\n",
       "      <td>...</td>\n",
       "    </tr>\n",
       "    <tr>\n",
       "      <th>775</th>\n",
       "      <td>775</td>\n",
       "      <td>Aethedru70</td>\n",
       "      <td>21</td>\n",
       "      <td>Female</td>\n",
       "      <td>60</td>\n",
       "      <td>Wolf</td>\n",
       "      <td>3.54</td>\n",
       "      <td>20-24</td>\n",
       "    </tr>\n",
       "    <tr>\n",
       "      <th>776</th>\n",
       "      <td>776</td>\n",
       "      <td>Iral74</td>\n",
       "      <td>21</td>\n",
       "      <td>Male</td>\n",
       "      <td>164</td>\n",
       "      <td>Exiled Doomblade</td>\n",
       "      <td>1.63</td>\n",
       "      <td>20-24</td>\n",
       "    </tr>\n",
       "    <tr>\n",
       "      <th>777</th>\n",
       "      <td>777</td>\n",
       "      <td>Yathecal72</td>\n",
       "      <td>20</td>\n",
       "      <td>Male</td>\n",
       "      <td>67</td>\n",
       "      <td>Celeste, Incarnation of the Corrupted</td>\n",
       "      <td>3.46</td>\n",
       "      <td>20-24</td>\n",
       "    </tr>\n",
       "    <tr>\n",
       "      <th>778</th>\n",
       "      <td>778</td>\n",
       "      <td>Sisur91</td>\n",
       "      <td>7</td>\n",
       "      <td>Male</td>\n",
       "      <td>101</td>\n",
       "      <td>Final Critic</td>\n",
       "      <td>4.19</td>\n",
       "      <td>&lt;10</td>\n",
       "    </tr>\n",
       "    <tr>\n",
       "      <th>779</th>\n",
       "      <td>779</td>\n",
       "      <td>Ennrian78</td>\n",
       "      <td>24</td>\n",
       "      <td>Male</td>\n",
       "      <td>50</td>\n",
       "      <td>Dawn</td>\n",
       "      <td>4.60</td>\n",
       "      <td>20-24</td>\n",
       "    </tr>\n",
       "  </tbody>\n",
       "</table>\n",
       "<p>780 rows × 8 columns</p>\n",
       "</div>"
      ],
      "text/plain": [
       "     Purchase ID             SN  Age  Gender  Item ID  \\\n",
       "0              0        Lisim78   20    Male      108   \n",
       "1              1    Lisovynya38   40    Male      143   \n",
       "2              2     Ithergue48   24    Male       92   \n",
       "3              3  Chamassasya86   24    Male      100   \n",
       "4              4      Iskosia90   23    Male      131   \n",
       "..           ...            ...  ...     ...      ...   \n",
       "775          775     Aethedru70   21  Female       60   \n",
       "776          776         Iral74   21    Male      164   \n",
       "777          777     Yathecal72   20    Male       67   \n",
       "778          778        Sisur91    7    Male      101   \n",
       "779          779      Ennrian78   24    Male       50   \n",
       "\n",
       "                                     Item Name  Price Age Ranges  \n",
       "0    Extraction, Quickblade Of Trembling Hands   3.53      20-24  \n",
       "1                            Frenzied Scimitar   1.56        40+  \n",
       "2                                 Final Critic   4.88      20-24  \n",
       "3                                  Blindscythe   3.27      20-24  \n",
       "4                                         Fury   1.44      20-24  \n",
       "..                                         ...    ...        ...  \n",
       "775                                       Wolf   3.54      20-24  \n",
       "776                           Exiled Doomblade   1.63      20-24  \n",
       "777      Celeste, Incarnation of the Corrupted   3.46      20-24  \n",
       "778                               Final Critic   4.19        <10  \n",
       "779                                       Dawn   4.60      20-24  \n",
       "\n",
       "[780 rows x 8 columns]"
      ]
     },
     "execution_count": 32,
     "metadata": {},
     "output_type": "execute_result"
    }
   ],
   "source": [
    "purchase_data[\"Age Ranges\"] = pd.cut(purchase_data[\"Age\"], bins, labels=group_names, include_lowest=True)\n",
    "purchase_data"
   ]
  },
  {
   "cell_type": "code",
   "execution_count": 34,
   "metadata": {},
   "outputs": [
    {
     "data": {
      "text/html": [
       "<div>\n",
       "<style scoped>\n",
       "    .dataframe tbody tr th:only-of-type {\n",
       "        vertical-align: middle;\n",
       "    }\n",
       "\n",
       "    .dataframe tbody tr th {\n",
       "        vertical-align: top;\n",
       "    }\n",
       "\n",
       "    .dataframe thead th {\n",
       "        text-align: right;\n",
       "    }\n",
       "</style>\n",
       "<table border=\"1\" class=\"dataframe\">\n",
       "  <thead>\n",
       "    <tr style=\"text-align: right;\">\n",
       "      <th></th>\n",
       "      <th>Purchase ID</th>\n",
       "      <th>SN</th>\n",
       "      <th>Age</th>\n",
       "      <th>Gender</th>\n",
       "      <th>Item ID</th>\n",
       "      <th>Item Name</th>\n",
       "      <th>Price</th>\n",
       "    </tr>\n",
       "    <tr>\n",
       "      <th>Age Ranges</th>\n",
       "      <th></th>\n",
       "      <th></th>\n",
       "      <th></th>\n",
       "      <th></th>\n",
       "      <th></th>\n",
       "      <th></th>\n",
       "      <th></th>\n",
       "    </tr>\n",
       "  </thead>\n",
       "  <tbody>\n",
       "    <tr>\n",
       "      <th>&lt;10</th>\n",
       "      <td>23</td>\n",
       "      <td>23</td>\n",
       "      <td>23</td>\n",
       "      <td>23</td>\n",
       "      <td>23</td>\n",
       "      <td>23</td>\n",
       "      <td>23</td>\n",
       "    </tr>\n",
       "    <tr>\n",
       "      <th>10-14</th>\n",
       "      <td>28</td>\n",
       "      <td>28</td>\n",
       "      <td>28</td>\n",
       "      <td>28</td>\n",
       "      <td>28</td>\n",
       "      <td>28</td>\n",
       "      <td>28</td>\n",
       "    </tr>\n",
       "    <tr>\n",
       "      <th>15-19</th>\n",
       "      <td>136</td>\n",
       "      <td>136</td>\n",
       "      <td>136</td>\n",
       "      <td>136</td>\n",
       "      <td>136</td>\n",
       "      <td>136</td>\n",
       "      <td>136</td>\n",
       "    </tr>\n",
       "    <tr>\n",
       "      <th>20-24</th>\n",
       "      <td>365</td>\n",
       "      <td>365</td>\n",
       "      <td>365</td>\n",
       "      <td>365</td>\n",
       "      <td>365</td>\n",
       "      <td>365</td>\n",
       "      <td>365</td>\n",
       "    </tr>\n",
       "    <tr>\n",
       "      <th>25-29</th>\n",
       "      <td>101</td>\n",
       "      <td>101</td>\n",
       "      <td>101</td>\n",
       "      <td>101</td>\n",
       "      <td>101</td>\n",
       "      <td>101</td>\n",
       "      <td>101</td>\n",
       "    </tr>\n",
       "    <tr>\n",
       "      <th>30-34</th>\n",
       "      <td>73</td>\n",
       "      <td>73</td>\n",
       "      <td>73</td>\n",
       "      <td>73</td>\n",
       "      <td>73</td>\n",
       "      <td>73</td>\n",
       "      <td>73</td>\n",
       "    </tr>\n",
       "    <tr>\n",
       "      <th>35-39</th>\n",
       "      <td>41</td>\n",
       "      <td>41</td>\n",
       "      <td>41</td>\n",
       "      <td>41</td>\n",
       "      <td>41</td>\n",
       "      <td>41</td>\n",
       "      <td>41</td>\n",
       "    </tr>\n",
       "    <tr>\n",
       "      <th>40+</th>\n",
       "      <td>13</td>\n",
       "      <td>13</td>\n",
       "      <td>13</td>\n",
       "      <td>13</td>\n",
       "      <td>13</td>\n",
       "      <td>13</td>\n",
       "      <td>13</td>\n",
       "    </tr>\n",
       "  </tbody>\n",
       "</table>\n",
       "</div>"
      ],
      "text/plain": [
       "            Purchase ID   SN  Age  Gender  Item ID  Item Name  Price\n",
       "Age Ranges                                                          \n",
       "<10                  23   23   23      23       23         23     23\n",
       "10-14                28   28   28      28       28         28     28\n",
       "15-19               136  136  136     136      136        136    136\n",
       "20-24               365  365  365     365      365        365    365\n",
       "25-29               101  101  101     101      101        101    101\n",
       "30-34                73   73   73      73       73         73     73\n",
       "35-39                41   41   41      41       41         41     41\n",
       "40+                  13   13   13      13       13         13     13"
      ]
     },
     "execution_count": 34,
     "metadata": {},
     "output_type": "execute_result"
    }
   ],
   "source": [
    "# Creating a group based off of the bins\n",
    "age_group = purchase_data.groupby(\"Age Ranges\")\n",
    "age_group.count()"
   ]
  },
  {
   "cell_type": "code",
   "execution_count": 35,
   "metadata": {},
   "outputs": [
    {
     "data": {
      "text/plain": [
       "17"
      ]
     },
     "execution_count": 35,
     "metadata": {},
     "output_type": "execute_result"
    }
   ],
   "source": [
    "#Percentage and Count ten\n",
    "ten_data = purchase_data.loc[purchase_data['Age Ranges'] == \"<10\"]\n",
    "grouped_ten_data = ten_data.groupby(['SN'])\n",
    "number_ten = len(grouped_ten_data)\n",
    "number_ten"
   ]
  },
  {
   "cell_type": "code",
   "execution_count": 36,
   "metadata": {},
   "outputs": [],
   "source": [
    "percentage_ten = format(number_ten / total_player,\"%\")"
   ]
  },
  {
   "cell_type": "code",
   "execution_count": 37,
   "metadata": {},
   "outputs": [
    {
     "data": {
      "text/plain": [
       "22"
      ]
     },
     "execution_count": 37,
     "metadata": {},
     "output_type": "execute_result"
    }
   ],
   "source": [
    "#Percentage and Count fourteen\n",
    "fourteen_data = purchase_data.loc[purchase_data['Age Ranges'] == \"10-14\"]\n",
    "grouped_fourteen_data = fourteen_data.groupby(['SN'])\n",
    "number_fourteen = len(grouped_fourteen_data)\n",
    "number_fourteen"
   ]
  },
  {
   "cell_type": "code",
   "execution_count": 38,
   "metadata": {},
   "outputs": [],
   "source": [
    "percentage_fourteen = format(number_fourteen / total_player,\"%\")"
   ]
  },
  {
   "cell_type": "code",
   "execution_count": 39,
   "metadata": {},
   "outputs": [
    {
     "data": {
      "text/plain": [
       "107"
      ]
     },
     "execution_count": 39,
     "metadata": {},
     "output_type": "execute_result"
    }
   ],
   "source": [
    "#Percentage and Count nineteen\n",
    "nineteen_data = purchase_data.loc[purchase_data['Age Ranges'] == \"15-19\"]\n",
    "grouped_nineteen_data = nineteen_data.groupby(['SN'])\n",
    "number_nineteen = len(grouped_nineteen_data)\n",
    "number_nineteen"
   ]
  },
  {
   "cell_type": "code",
   "execution_count": 40,
   "metadata": {},
   "outputs": [],
   "source": [
    "percentage_nineteen = format(number_nineteen / total_player,\"%\")"
   ]
  },
  {
   "cell_type": "code",
   "execution_count": 41,
   "metadata": {},
   "outputs": [
    {
     "data": {
      "text/plain": [
       "258"
      ]
     },
     "execution_count": 41,
     "metadata": {},
     "output_type": "execute_result"
    }
   ],
   "source": [
    "#Percentage and Count twentyfour\n",
    "twentyfour_data = purchase_data.loc[purchase_data['Age Ranges'] == \"20-24\"]\n",
    "grouped_twentyfour_data = twentyfour_data.groupby(['SN'])\n",
    "number_twentyfour = len(grouped_twentyfour_data)\n",
    "number_twentyfour"
   ]
  },
  {
   "cell_type": "code",
   "execution_count": 42,
   "metadata": {},
   "outputs": [],
   "source": [
    "percentage_twentyfour = format(number_twentyfour / total_player,\"%\")"
   ]
  },
  {
   "cell_type": "code",
   "execution_count": 43,
   "metadata": {},
   "outputs": [
    {
     "data": {
      "text/plain": [
       "77"
      ]
     },
     "execution_count": 43,
     "metadata": {},
     "output_type": "execute_result"
    }
   ],
   "source": [
    "#Percentage and Count twentynine\n",
    "twentynine_data = purchase_data.loc[purchase_data['Age Ranges'] == \"25-29\"]\n",
    "grouped_twentynine_data = twentynine_data.groupby(['SN'])\n",
    "number_twentynine = len(grouped_twentynine_data)\n",
    "number_twentynine"
   ]
  },
  {
   "cell_type": "code",
   "execution_count": 45,
   "metadata": {},
   "outputs": [],
   "source": [
    "percentage_twentynine = format(number_twentynine / total_player,\"%\")"
   ]
  },
  {
   "cell_type": "code",
   "execution_count": 46,
   "metadata": {},
   "outputs": [
    {
     "data": {
      "text/plain": [
       "52"
      ]
     },
     "execution_count": 46,
     "metadata": {},
     "output_type": "execute_result"
    }
   ],
   "source": [
    "#Percentage and Count thirtyfour\n",
    "thirtyfour_data = purchase_data.loc[purchase_data['Age Ranges'] == \"30-34\"]\n",
    "grouped_thirtyfour_data = thirtyfour_data.groupby(['SN'])\n",
    "number_thirtyfour = len(grouped_thirtyfour_data)\n",
    "number_thirtyfour"
   ]
  },
  {
   "cell_type": "code",
   "execution_count": 47,
   "metadata": {},
   "outputs": [],
   "source": [
    "percentage_thirtyfour = format(number_thirtyfour / total_player,\"%\")"
   ]
  },
  {
   "cell_type": "code",
   "execution_count": 48,
   "metadata": {},
   "outputs": [
    {
     "data": {
      "text/plain": [
       "31"
      ]
     },
     "execution_count": 48,
     "metadata": {},
     "output_type": "execute_result"
    }
   ],
   "source": [
    "#Percentage and Count thirtynine\n",
    "thirtynine_data = purchase_data.loc[purchase_data['Age Ranges'] == \"35-39\"]\n",
    "grouped_thirtynine_data = thirtynine_data.groupby(['SN'])\n",
    "number_thirtynine = len(grouped_thirtynine_data)\n",
    "number_thirtynine"
   ]
  },
  {
   "cell_type": "code",
   "execution_count": 50,
   "metadata": {},
   "outputs": [],
   "source": [
    "percentage_thirtynine = format(number_thirtynine / total_player,\"%\")"
   ]
  },
  {
   "cell_type": "code",
   "execution_count": 51,
   "metadata": {},
   "outputs": [
    {
     "data": {
      "text/plain": [
       "12"
      ]
     },
     "execution_count": 51,
     "metadata": {},
     "output_type": "execute_result"
    }
   ],
   "source": [
    "#Percentage and Count fourty\n",
    "fourty_data = purchase_data.loc[purchase_data['Age Ranges'] == \"40+\"]\n",
    "grouped_fourty_data = fourty_data.groupby(['SN'])\n",
    "number_fourty = len(grouped_fourty_data)\n",
    "number_fourty"
   ]
  },
  {
   "cell_type": "code",
   "execution_count": 53,
   "metadata": {},
   "outputs": [],
   "source": [
    "percentage_fourty = format(number_fourty / total_player, \"%\")"
   ]
  },
  {
   "cell_type": "code",
   "execution_count": 54,
   "metadata": {},
   "outputs": [
    {
     "data": {
      "text/html": [
       "<div>\n",
       "<style scoped>\n",
       "    .dataframe tbody tr th:only-of-type {\n",
       "        vertical-align: middle;\n",
       "    }\n",
       "\n",
       "    .dataframe tbody tr th {\n",
       "        vertical-align: top;\n",
       "    }\n",
       "\n",
       "    .dataframe thead th {\n",
       "        text-align: right;\n",
       "    }\n",
       "</style>\n",
       "<table border=\"1\" class=\"dataframe\">\n",
       "  <thead>\n",
       "    <tr style=\"text-align: right;\">\n",
       "      <th></th>\n",
       "      <th>Age Ranges</th>\n",
       "      <th>Total Count</th>\n",
       "      <th>Percentage of Players</th>\n",
       "    </tr>\n",
       "  </thead>\n",
       "  <tbody>\n",
       "    <tr>\n",
       "      <th>0</th>\n",
       "      <td>&lt;10</td>\n",
       "      <td>17</td>\n",
       "      <td>2.951389%</td>\n",
       "    </tr>\n",
       "    <tr>\n",
       "      <th>1</th>\n",
       "      <td>10-14</td>\n",
       "      <td>22</td>\n",
       "      <td>3.819444%</td>\n",
       "    </tr>\n",
       "    <tr>\n",
       "      <th>2</th>\n",
       "      <td>15-19</td>\n",
       "      <td>107</td>\n",
       "      <td>18.576389%</td>\n",
       "    </tr>\n",
       "    <tr>\n",
       "      <th>3</th>\n",
       "      <td>20-24</td>\n",
       "      <td>258</td>\n",
       "      <td>44.791667%</td>\n",
       "    </tr>\n",
       "    <tr>\n",
       "      <th>4</th>\n",
       "      <td>25-29</td>\n",
       "      <td>77</td>\n",
       "      <td>13.368056%</td>\n",
       "    </tr>\n",
       "    <tr>\n",
       "      <th>5</th>\n",
       "      <td>30-34</td>\n",
       "      <td>52</td>\n",
       "      <td>9.027778%</td>\n",
       "    </tr>\n",
       "    <tr>\n",
       "      <th>6</th>\n",
       "      <td>35-39</td>\n",
       "      <td>31</td>\n",
       "      <td>5.381944%</td>\n",
       "    </tr>\n",
       "    <tr>\n",
       "      <th>7</th>\n",
       "      <td>40+</td>\n",
       "      <td>12</td>\n",
       "      <td>2.083333%</td>\n",
       "    </tr>\n",
       "  </tbody>\n",
       "</table>\n",
       "</div>"
      ],
      "text/plain": [
       "  Age Ranges  Total Count Percentage of Players\n",
       "0        <10           17             2.951389%\n",
       "1      10-14           22             3.819444%\n",
       "2      15-19          107            18.576389%\n",
       "3      20-24          258            44.791667%\n",
       "4      25-29           77            13.368056%\n",
       "5      30-34           52             9.027778%\n",
       "6      35-39           31             5.381944%\n",
       "7        40+           12             2.083333%"
      ]
     },
     "execution_count": 54,
     "metadata": {},
     "output_type": "execute_result"
    }
   ],
   "source": [
    "age_df = pd.DataFrame(\n",
    "    {\"Age Ranges\": [\"<10\", \"10-14\", \"15-19\", \"20-24\", \"25-29\", \"30-34\", \"35-39\", \"40+\"],\n",
    "     \"Total Count\": [number_ten,number_fourteen,number_nineteen,number_twentyfour,\n",
    "                     number_twentynine,number_thirtyfour,number_thirtynine,number_fourty],\n",
    "     \"Percentage of Players\": [percentage_ten,percentage_fourteen,percentage_nineteen,percentage_twentyfour,\n",
    "                     percentage_twentynine,percentage_thirtyfour,percentage_thirtynine,percentage_fourty]   \n",
    "     }\n",
    ")\n",
    "age_df"
   ]
  },
  {
   "cell_type": "markdown",
   "metadata": {},
   "source": [
    "## Purchasing Analysis (Age)"
   ]
  },
  {
   "cell_type": "markdown",
   "metadata": {},
   "source": [
    "* Bin the purchase_data data frame by age\n",
    "\n",
    "\n",
    "* Run basic calculations to obtain purchase count, avg. purchase price, avg. purchase total per person etc. in the table below\n",
    "\n",
    "\n",
    "* Create a summary data frame to hold the results\n",
    "\n",
    "\n",
    "* Optional: give the displayed data cleaner formatting\n",
    "\n",
    "\n",
    "* Display the summary data frame"
   ]
  },
  {
   "cell_type": "code",
   "execution_count": 55,
   "metadata": {},
   "outputs": [
    {
     "name": "stdout",
     "output_type": "stream",
     "text": [
      "23\n"
     ]
    }
   ],
   "source": [
    "ten_purchases = len(ten_data[\"Purchase ID\"])\n",
    "print(ten_purchases)"
   ]
  },
  {
   "cell_type": "code",
   "execution_count": 56,
   "metadata": {},
   "outputs": [
    {
     "name": "stdout",
     "output_type": "stream",
     "text": [
      "3.35\n"
     ]
    }
   ],
   "source": [
    "#Calculate male <10 price\n",
    "print(format(ten_data[\"Price\"].mean(),\".2f\"))\n",
    "#Create variable for male average price\n",
    "ten_avg_price = ten_data[\"Price\"].mean()"
   ]
  },
  {
   "cell_type": "code",
   "execution_count": 57,
   "metadata": {},
   "outputs": [
    {
     "name": "stdout",
     "output_type": "stream",
     "text": [
      "77.13\n"
     ]
    }
   ],
   "source": [
    "#Calculate <10 total purchase value\n",
    "print(ten_data[\"Price\"].sum())\n",
    "#Create variable for <10 total purchase value\n",
    "ten_sum_price = ten_data[\"Price\"].sum()"
   ]
  },
  {
   "cell_type": "code",
   "execution_count": 58,
   "metadata": {},
   "outputs": [
    {
     "name": "stdout",
     "output_type": "stream",
     "text": [
      "4.54\n"
     ]
    }
   ],
   "source": [
    "#Avg Total Purchase per <10 Person\n",
    "ten_person_avg = ten_sum_price/number_ten\n",
    "print(format(ten_person_avg,\".2f\"))"
   ]
  },
  {
   "cell_type": "code",
   "execution_count": 59,
   "metadata": {},
   "outputs": [
    {
     "name": "stdout",
     "output_type": "stream",
     "text": [
      "28\n",
      "2.96\n",
      "82.78\n",
      "3.76\n"
     ]
    }
   ],
   "source": [
    "fourteen_purchases = len(fourteen_data[\"Purchase ID\"])\n",
    "print(fourteen_purchases)\n",
    "print(format(fourteen_data[\"Price\"].mean(),\".2f\"))\n",
    "fourteen_avg_price = fourteen_data[\"Price\"].mean()\n",
    "print(fourteen_data[\"Price\"].sum())\n",
    "fourteen_sum_price = fourteen_data[\"Price\"].sum()\n",
    "fourteen_person_avg = fourteen_sum_price/number_fourteen\n",
    "print(format(fourteen_person_avg,\".2f\"))"
   ]
  },
  {
   "cell_type": "code",
   "execution_count": 60,
   "metadata": {},
   "outputs": [
    {
     "name": "stdout",
     "output_type": "stream",
     "text": [
      "136\n",
      "3.04\n",
      "412.89\n",
      "3.86\n"
     ]
    }
   ],
   "source": [
    "nineteen_purchases = len(nineteen_data[\"Purchase ID\"])\n",
    "print(nineteen_purchases)\n",
    "print(format(nineteen_data[\"Price\"].mean(),\".2f\"))\n",
    "nineteen_avg_price = nineteen_data[\"Price\"].mean()\n",
    "print(nineteen_data[\"Price\"].sum())\n",
    "nineteen_sum_price = nineteen_data[\"Price\"].sum()\n",
    "nineteen_person_avg = nineteen_sum_price/number_nineteen\n",
    "print(format(nineteen_person_avg,\".2f\"))"
   ]
  },
  {
   "cell_type": "code",
   "execution_count": 61,
   "metadata": {},
   "outputs": [
    {
     "name": "stdout",
     "output_type": "stream",
     "text": [
      "365\n",
      "3.05\n",
      "1114.06\n",
      "4.32\n"
     ]
    }
   ],
   "source": [
    "twentyfour_purchases = len(twentyfour_data[\"Purchase ID\"])\n",
    "print(twentyfour_purchases)\n",
    "print(format(twentyfour_data[\"Price\"].mean(),\".2f\"))\n",
    "twentyfour_avg_price = twentyfour_data[\"Price\"].mean()\n",
    "print(twentyfour_data[\"Price\"].sum())\n",
    "twentyfour_sum_price = twentyfour_data[\"Price\"].sum()\n",
    "twentyfour_person_avg = twentyfour_sum_price/number_twentyfour\n",
    "print(format(twentyfour_person_avg,\".2f\"))"
   ]
  },
  {
   "cell_type": "code",
   "execution_count": 62,
   "metadata": {},
   "outputs": [
    {
     "name": "stdout",
     "output_type": "stream",
     "text": [
      "101\n",
      "2.90\n",
      "292.99999999999994\n",
      "3.81\n"
     ]
    }
   ],
   "source": [
    "twentynine_purchases = len(twentynine_data[\"Purchase ID\"])\n",
    "print(twentynine_purchases)\n",
    "print(format(twentynine_data[\"Price\"].mean(),\".2f\"))\n",
    "twentynine_avg_price = twentynine_data[\"Price\"].mean()\n",
    "print(twentynine_data[\"Price\"].sum())\n",
    "twentynine_sum_price = twentynine_data[\"Price\"].sum()\n",
    "twentynine_person_avg = twentynine_sum_price/number_twentynine\n",
    "print(format(twentynine_person_avg,\".2f\"))"
   ]
  },
  {
   "cell_type": "code",
   "execution_count": 63,
   "metadata": {},
   "outputs": [
    {
     "name": "stdout",
     "output_type": "stream",
     "text": [
      "73\n",
      "2.93\n",
      "214.00000000000003\n",
      "4.12\n"
     ]
    }
   ],
   "source": [
    "thirtyfour_purchases = len(thirtyfour_data[\"Purchase ID\"])\n",
    "print(thirtyfour_purchases)\n",
    "print(format(thirtyfour_data[\"Price\"].mean(),\".2f\"))\n",
    "thirtyfour_avg_price = thirtyfour_data[\"Price\"].mean()\n",
    "print(thirtyfour_data[\"Price\"].sum())\n",
    "thirtyfour_sum_price = thirtyfour_data[\"Price\"].sum()\n",
    "thirtyfour_person_avg = thirtyfour_sum_price/number_thirtyfour\n",
    "print(format(thirtyfour_person_avg,\".2f\"))"
   ]
  },
  {
   "cell_type": "code",
   "execution_count": 64,
   "metadata": {},
   "outputs": [
    {
     "name": "stdout",
     "output_type": "stream",
     "text": [
      "41\n",
      "3.60\n",
      "147.67\n",
      "4.76\n"
     ]
    }
   ],
   "source": [
    "thirtynine_purchases = len(thirtynine_data[\"Purchase ID\"])\n",
    "print(thirtynine_purchases)\n",
    "print(format(thirtynine_data[\"Price\"].mean(),\".2f\"))\n",
    "thirtynine_avg_price = thirtynine_data[\"Price\"].mean()\n",
    "print(thirtynine_data[\"Price\"].sum())\n",
    "thirtynine_sum_price = thirtynine_data[\"Price\"].sum()\n",
    "thirtynine_person_avg = thirtynine_sum_price/number_thirtynine\n",
    "print(format(thirtynine_person_avg,\".2f\"))"
   ]
  },
  {
   "cell_type": "code",
   "execution_count": 65,
   "metadata": {},
   "outputs": [
    {
     "name": "stdout",
     "output_type": "stream",
     "text": [
      "13\n",
      "2.94\n",
      "38.24\n",
      "3.19\n"
     ]
    }
   ],
   "source": [
    "fourty_purchases = len(fourty_data[\"Purchase ID\"])\n",
    "print(fourty_purchases)\n",
    "print(format(fourty_data[\"Price\"].mean(),\".2f\"))\n",
    "fourty_avg_price = fourty_data[\"Price\"].mean()\n",
    "print(fourty_data[\"Price\"].sum())\n",
    "fourty_sum_price = fourty_data[\"Price\"].sum()\n",
    "fourty_person_avg = fourty_sum_price/number_fourty\n",
    "print(format(fourty_person_avg,\".2f\"))"
   ]
  },
  {
   "cell_type": "code",
   "execution_count": 66,
   "metadata": {},
   "outputs": [
    {
     "data": {
      "text/html": [
       "<div>\n",
       "<style scoped>\n",
       "    .dataframe tbody tr th:only-of-type {\n",
       "        vertical-align: middle;\n",
       "    }\n",
       "\n",
       "    .dataframe tbody tr th {\n",
       "        vertical-align: top;\n",
       "    }\n",
       "\n",
       "    .dataframe thead th {\n",
       "        text-align: right;\n",
       "    }\n",
       "</style>\n",
       "<table border=\"1\" class=\"dataframe\">\n",
       "  <thead>\n",
       "    <tr style=\"text-align: right;\">\n",
       "      <th></th>\n",
       "      <th>Age Ranges</th>\n",
       "      <th>Purchase Count</th>\n",
       "      <th>Average Purchase Price</th>\n",
       "      <th>Total Purchase Value</th>\n",
       "      <th>Avg Total Purchase per Person</th>\n",
       "    </tr>\n",
       "  </thead>\n",
       "  <tbody>\n",
       "    <tr>\n",
       "      <th>0</th>\n",
       "      <td>&lt;10</td>\n",
       "      <td>23</td>\n",
       "      <td>3.353478</td>\n",
       "      <td>77.13</td>\n",
       "      <td>4.537059</td>\n",
       "    </tr>\n",
       "    <tr>\n",
       "      <th>1</th>\n",
       "      <td>10-14</td>\n",
       "      <td>28</td>\n",
       "      <td>2.956429</td>\n",
       "      <td>82.78</td>\n",
       "      <td>3.762727</td>\n",
       "    </tr>\n",
       "    <tr>\n",
       "      <th>2</th>\n",
       "      <td>15-19</td>\n",
       "      <td>136</td>\n",
       "      <td>3.035956</td>\n",
       "      <td>412.89</td>\n",
       "      <td>3.858785</td>\n",
       "    </tr>\n",
       "    <tr>\n",
       "      <th>3</th>\n",
       "      <td>20-24</td>\n",
       "      <td>365</td>\n",
       "      <td>3.052219</td>\n",
       "      <td>1114.06</td>\n",
       "      <td>4.318062</td>\n",
       "    </tr>\n",
       "    <tr>\n",
       "      <th>4</th>\n",
       "      <td>25-29</td>\n",
       "      <td>101</td>\n",
       "      <td>2.900990</td>\n",
       "      <td>293.00</td>\n",
       "      <td>3.805195</td>\n",
       "    </tr>\n",
       "    <tr>\n",
       "      <th>5</th>\n",
       "      <td>30-34</td>\n",
       "      <td>73</td>\n",
       "      <td>2.931507</td>\n",
       "      <td>214.00</td>\n",
       "      <td>4.115385</td>\n",
       "    </tr>\n",
       "    <tr>\n",
       "      <th>6</th>\n",
       "      <td>35-39</td>\n",
       "      <td>41</td>\n",
       "      <td>3.601707</td>\n",
       "      <td>147.67</td>\n",
       "      <td>4.763548</td>\n",
       "    </tr>\n",
       "    <tr>\n",
       "      <th>7</th>\n",
       "      <td>40+</td>\n",
       "      <td>13</td>\n",
       "      <td>2.941538</td>\n",
       "      <td>38.24</td>\n",
       "      <td>3.186667</td>\n",
       "    </tr>\n",
       "  </tbody>\n",
       "</table>\n",
       "</div>"
      ],
      "text/plain": [
       "  Age Ranges  Purchase Count  Average Purchase Price  Total Purchase Value  \\\n",
       "0        <10              23                3.353478                 77.13   \n",
       "1      10-14              28                2.956429                 82.78   \n",
       "2      15-19             136                3.035956                412.89   \n",
       "3      20-24             365                3.052219               1114.06   \n",
       "4      25-29             101                2.900990                293.00   \n",
       "5      30-34              73                2.931507                214.00   \n",
       "6      35-39              41                3.601707                147.67   \n",
       "7        40+              13                2.941538                 38.24   \n",
       "\n",
       "   Avg Total Purchase per Person  \n",
       "0                       4.537059  \n",
       "1                       3.762727  \n",
       "2                       3.858785  \n",
       "3                       4.318062  \n",
       "4                       3.805195  \n",
       "5                       4.115385  \n",
       "6                       4.763548  \n",
       "7                       3.186667  "
      ]
     },
     "execution_count": 66,
     "metadata": {},
     "output_type": "execute_result"
    }
   ],
   "source": [
    "age_analysis_df = pd.DataFrame(\n",
    "    {\"Age Ranges\": [\"<10\", \"10-14\", \"15-19\", \"20-24\", \"25-29\", \"30-34\", \"35-39\", \"40+\"],\n",
    "     \"Purchase Count\": [ten_purchases,fourteen_purchases,nineteen_purchases,twentyfour_purchases,\n",
    "                     twentynine_purchases,thirtyfour_purchases,thirtynine_purchases,fourty_purchases],\n",
    "     \"Average Purchase Price\": [ten_avg_price,fourteen_avg_price,nineteen_avg_price,twentyfour_avg_price,\n",
    "                     twentynine_avg_price,thirtyfour_avg_price,thirtynine_avg_price,fourty_avg_price],\n",
    "     \"Total Purchase Value\": [ten_sum_price,fourteen_sum_price,nineteen_sum_price,twentyfour_sum_price,\n",
    "                     twentynine_sum_price,thirtyfour_sum_price,thirtynine_sum_price,fourty_sum_price],\n",
    "     \"Avg Total Purchase per Person\": [ten_person_avg,fourteen_person_avg,nineteen_person_avg,twentyfour_person_avg,\n",
    "                     twentynine_person_avg,thirtyfour_person_avg,thirtynine_person_avg,fourty_person_avg]\n",
    "     }\n",
    ")\n",
    "age_analysis_df"
   ]
  },
  {
   "cell_type": "markdown",
   "metadata": {},
   "source": [
    "## Top Spenders"
   ]
  },
  {
   "cell_type": "markdown",
   "metadata": {},
   "source": [
    "* Run basic calculations to obtain the results in the table below\n",
    "\n",
    "\n",
    "* Create a summary data frame to hold the results\n",
    "\n",
    "\n",
    "* Sort the total purchase value column in descending order\n",
    "\n",
    "\n",
    "* Optional: give the displayed data cleaner formatting\n",
    "\n",
    "\n",
    "* Display a preview of the summary data frame\n",
    "\n"
   ]
  },
  {
   "cell_type": "code",
   "execution_count": 67,
   "metadata": {},
   "outputs": [
    {
     "data": {
      "text/html": [
       "<div>\n",
       "<style scoped>\n",
       "    .dataframe tbody tr th:only-of-type {\n",
       "        vertical-align: middle;\n",
       "    }\n",
       "\n",
       "    .dataframe tbody tr th {\n",
       "        vertical-align: top;\n",
       "    }\n",
       "\n",
       "    .dataframe thead th {\n",
       "        text-align: right;\n",
       "    }\n",
       "</style>\n",
       "<table border=\"1\" class=\"dataframe\">\n",
       "  <thead>\n",
       "    <tr style=\"text-align: right;\">\n",
       "      <th></th>\n",
       "      <th>Adairialis76</th>\n",
       "      <th>Adastirin33</th>\n",
       "      <th>Aeda94</th>\n",
       "      <th>Aela59</th>\n",
       "      <th>Aelaria33</th>\n",
       "      <th>Aelastirin39</th>\n",
       "      <th>Aelidru27</th>\n",
       "      <th>Aelin32</th>\n",
       "      <th>Aelly27</th>\n",
       "      <th>Aellynun67</th>\n",
       "      <th>...</th>\n",
       "      <th>Yasrisu92</th>\n",
       "      <th>Yastyriaphos75</th>\n",
       "      <th>Yasur35</th>\n",
       "      <th>Yasur85</th>\n",
       "      <th>Yathecal72</th>\n",
       "      <th>Yathecal82</th>\n",
       "      <th>Yathedeu43</th>\n",
       "      <th>Yoishirrala98</th>\n",
       "      <th>Zhisrisu83</th>\n",
       "      <th>Zontibe81</th>\n",
       "    </tr>\n",
       "  </thead>\n",
       "  <tbody>\n",
       "    <tr>\n",
       "      <th>0</th>\n",
       "      <td>NaN</td>\n",
       "      <td>NaN</td>\n",
       "      <td>NaN</td>\n",
       "      <td>NaN</td>\n",
       "      <td>NaN</td>\n",
       "      <td>NaN</td>\n",
       "      <td>NaN</td>\n",
       "      <td>NaN</td>\n",
       "      <td>NaN</td>\n",
       "      <td>NaN</td>\n",
       "      <td>...</td>\n",
       "      <td>NaN</td>\n",
       "      <td>NaN</td>\n",
       "      <td>NaN</td>\n",
       "      <td>NaN</td>\n",
       "      <td>NaN</td>\n",
       "      <td>NaN</td>\n",
       "      <td>NaN</td>\n",
       "      <td>NaN</td>\n",
       "      <td>NaN</td>\n",
       "      <td>NaN</td>\n",
       "    </tr>\n",
       "    <tr>\n",
       "      <th>1</th>\n",
       "      <td>NaN</td>\n",
       "      <td>NaN</td>\n",
       "      <td>NaN</td>\n",
       "      <td>NaN</td>\n",
       "      <td>NaN</td>\n",
       "      <td>NaN</td>\n",
       "      <td>NaN</td>\n",
       "      <td>NaN</td>\n",
       "      <td>NaN</td>\n",
       "      <td>NaN</td>\n",
       "      <td>...</td>\n",
       "      <td>NaN</td>\n",
       "      <td>NaN</td>\n",
       "      <td>NaN</td>\n",
       "      <td>NaN</td>\n",
       "      <td>NaN</td>\n",
       "      <td>NaN</td>\n",
       "      <td>NaN</td>\n",
       "      <td>NaN</td>\n",
       "      <td>NaN</td>\n",
       "      <td>NaN</td>\n",
       "    </tr>\n",
       "    <tr>\n",
       "      <th>2</th>\n",
       "      <td>NaN</td>\n",
       "      <td>NaN</td>\n",
       "      <td>NaN</td>\n",
       "      <td>NaN</td>\n",
       "      <td>NaN</td>\n",
       "      <td>NaN</td>\n",
       "      <td>NaN</td>\n",
       "      <td>NaN</td>\n",
       "      <td>NaN</td>\n",
       "      <td>NaN</td>\n",
       "      <td>...</td>\n",
       "      <td>NaN</td>\n",
       "      <td>NaN</td>\n",
       "      <td>NaN</td>\n",
       "      <td>NaN</td>\n",
       "      <td>NaN</td>\n",
       "      <td>NaN</td>\n",
       "      <td>NaN</td>\n",
       "      <td>NaN</td>\n",
       "      <td>NaN</td>\n",
       "      <td>NaN</td>\n",
       "    </tr>\n",
       "    <tr>\n",
       "      <th>3</th>\n",
       "      <td>NaN</td>\n",
       "      <td>NaN</td>\n",
       "      <td>NaN</td>\n",
       "      <td>NaN</td>\n",
       "      <td>NaN</td>\n",
       "      <td>NaN</td>\n",
       "      <td>NaN</td>\n",
       "      <td>NaN</td>\n",
       "      <td>NaN</td>\n",
       "      <td>NaN</td>\n",
       "      <td>...</td>\n",
       "      <td>NaN</td>\n",
       "      <td>NaN</td>\n",
       "      <td>NaN</td>\n",
       "      <td>NaN</td>\n",
       "      <td>NaN</td>\n",
       "      <td>NaN</td>\n",
       "      <td>NaN</td>\n",
       "      <td>NaN</td>\n",
       "      <td>NaN</td>\n",
       "      <td>NaN</td>\n",
       "    </tr>\n",
       "    <tr>\n",
       "      <th>4</th>\n",
       "      <td>NaN</td>\n",
       "      <td>NaN</td>\n",
       "      <td>NaN</td>\n",
       "      <td>NaN</td>\n",
       "      <td>NaN</td>\n",
       "      <td>NaN</td>\n",
       "      <td>NaN</td>\n",
       "      <td>NaN</td>\n",
       "      <td>NaN</td>\n",
       "      <td>NaN</td>\n",
       "      <td>...</td>\n",
       "      <td>NaN</td>\n",
       "      <td>NaN</td>\n",
       "      <td>NaN</td>\n",
       "      <td>NaN</td>\n",
       "      <td>NaN</td>\n",
       "      <td>NaN</td>\n",
       "      <td>NaN</td>\n",
       "      <td>NaN</td>\n",
       "      <td>NaN</td>\n",
       "      <td>NaN</td>\n",
       "    </tr>\n",
       "    <tr>\n",
       "      <th>...</th>\n",
       "      <td>...</td>\n",
       "      <td>...</td>\n",
       "      <td>...</td>\n",
       "      <td>...</td>\n",
       "      <td>...</td>\n",
       "      <td>...</td>\n",
       "      <td>...</td>\n",
       "      <td>...</td>\n",
       "      <td>...</td>\n",
       "      <td>...</td>\n",
       "      <td>...</td>\n",
       "      <td>...</td>\n",
       "      <td>...</td>\n",
       "      <td>...</td>\n",
       "      <td>...</td>\n",
       "      <td>...</td>\n",
       "      <td>...</td>\n",
       "      <td>...</td>\n",
       "      <td>...</td>\n",
       "      <td>...</td>\n",
       "      <td>...</td>\n",
       "    </tr>\n",
       "    <tr>\n",
       "      <th>775</th>\n",
       "      <td>NaN</td>\n",
       "      <td>NaN</td>\n",
       "      <td>NaN</td>\n",
       "      <td>NaN</td>\n",
       "      <td>NaN</td>\n",
       "      <td>NaN</td>\n",
       "      <td>NaN</td>\n",
       "      <td>NaN</td>\n",
       "      <td>NaN</td>\n",
       "      <td>NaN</td>\n",
       "      <td>...</td>\n",
       "      <td>NaN</td>\n",
       "      <td>NaN</td>\n",
       "      <td>NaN</td>\n",
       "      <td>NaN</td>\n",
       "      <td>NaN</td>\n",
       "      <td>NaN</td>\n",
       "      <td>NaN</td>\n",
       "      <td>NaN</td>\n",
       "      <td>NaN</td>\n",
       "      <td>NaN</td>\n",
       "    </tr>\n",
       "    <tr>\n",
       "      <th>776</th>\n",
       "      <td>NaN</td>\n",
       "      <td>NaN</td>\n",
       "      <td>NaN</td>\n",
       "      <td>NaN</td>\n",
       "      <td>NaN</td>\n",
       "      <td>NaN</td>\n",
       "      <td>NaN</td>\n",
       "      <td>NaN</td>\n",
       "      <td>NaN</td>\n",
       "      <td>NaN</td>\n",
       "      <td>...</td>\n",
       "      <td>NaN</td>\n",
       "      <td>NaN</td>\n",
       "      <td>NaN</td>\n",
       "      <td>NaN</td>\n",
       "      <td>NaN</td>\n",
       "      <td>NaN</td>\n",
       "      <td>NaN</td>\n",
       "      <td>NaN</td>\n",
       "      <td>NaN</td>\n",
       "      <td>NaN</td>\n",
       "    </tr>\n",
       "    <tr>\n",
       "      <th>777</th>\n",
       "      <td>NaN</td>\n",
       "      <td>NaN</td>\n",
       "      <td>NaN</td>\n",
       "      <td>NaN</td>\n",
       "      <td>NaN</td>\n",
       "      <td>NaN</td>\n",
       "      <td>NaN</td>\n",
       "      <td>NaN</td>\n",
       "      <td>NaN</td>\n",
       "      <td>NaN</td>\n",
       "      <td>...</td>\n",
       "      <td>NaN</td>\n",
       "      <td>NaN</td>\n",
       "      <td>NaN</td>\n",
       "      <td>NaN</td>\n",
       "      <td>Yathecal72</td>\n",
       "      <td>NaN</td>\n",
       "      <td>NaN</td>\n",
       "      <td>NaN</td>\n",
       "      <td>NaN</td>\n",
       "      <td>NaN</td>\n",
       "    </tr>\n",
       "    <tr>\n",
       "      <th>778</th>\n",
       "      <td>NaN</td>\n",
       "      <td>NaN</td>\n",
       "      <td>NaN</td>\n",
       "      <td>NaN</td>\n",
       "      <td>NaN</td>\n",
       "      <td>NaN</td>\n",
       "      <td>NaN</td>\n",
       "      <td>NaN</td>\n",
       "      <td>NaN</td>\n",
       "      <td>NaN</td>\n",
       "      <td>...</td>\n",
       "      <td>NaN</td>\n",
       "      <td>NaN</td>\n",
       "      <td>NaN</td>\n",
       "      <td>NaN</td>\n",
       "      <td>NaN</td>\n",
       "      <td>NaN</td>\n",
       "      <td>NaN</td>\n",
       "      <td>NaN</td>\n",
       "      <td>NaN</td>\n",
       "      <td>NaN</td>\n",
       "    </tr>\n",
       "    <tr>\n",
       "      <th>779</th>\n",
       "      <td>NaN</td>\n",
       "      <td>NaN</td>\n",
       "      <td>NaN</td>\n",
       "      <td>NaN</td>\n",
       "      <td>NaN</td>\n",
       "      <td>NaN</td>\n",
       "      <td>NaN</td>\n",
       "      <td>NaN</td>\n",
       "      <td>NaN</td>\n",
       "      <td>NaN</td>\n",
       "      <td>...</td>\n",
       "      <td>NaN</td>\n",
       "      <td>NaN</td>\n",
       "      <td>NaN</td>\n",
       "      <td>NaN</td>\n",
       "      <td>NaN</td>\n",
       "      <td>NaN</td>\n",
       "      <td>NaN</td>\n",
       "      <td>NaN</td>\n",
       "      <td>NaN</td>\n",
       "      <td>NaN</td>\n",
       "    </tr>\n",
       "  </tbody>\n",
       "</table>\n",
       "<p>780 rows × 576 columns</p>\n",
       "</div>"
      ],
      "text/plain": [
       "    Adairialis76 Adastirin33 Aeda94 Aela59 Aelaria33 Aelastirin39 Aelidru27  \\\n",
       "0            NaN         NaN    NaN    NaN       NaN          NaN       NaN   \n",
       "1            NaN         NaN    NaN    NaN       NaN          NaN       NaN   \n",
       "2            NaN         NaN    NaN    NaN       NaN          NaN       NaN   \n",
       "3            NaN         NaN    NaN    NaN       NaN          NaN       NaN   \n",
       "4            NaN         NaN    NaN    NaN       NaN          NaN       NaN   \n",
       "..           ...         ...    ...    ...       ...          ...       ...   \n",
       "775          NaN         NaN    NaN    NaN       NaN          NaN       NaN   \n",
       "776          NaN         NaN    NaN    NaN       NaN          NaN       NaN   \n",
       "777          NaN         NaN    NaN    NaN       NaN          NaN       NaN   \n",
       "778          NaN         NaN    NaN    NaN       NaN          NaN       NaN   \n",
       "779          NaN         NaN    NaN    NaN       NaN          NaN       NaN   \n",
       "\n",
       "    Aelin32 Aelly27 Aellynun67  ... Yasrisu92 Yastyriaphos75 Yasur35 Yasur85  \\\n",
       "0       NaN     NaN        NaN  ...       NaN            NaN     NaN     NaN   \n",
       "1       NaN     NaN        NaN  ...       NaN            NaN     NaN     NaN   \n",
       "2       NaN     NaN        NaN  ...       NaN            NaN     NaN     NaN   \n",
       "3       NaN     NaN        NaN  ...       NaN            NaN     NaN     NaN   \n",
       "4       NaN     NaN        NaN  ...       NaN            NaN     NaN     NaN   \n",
       "..      ...     ...        ...  ...       ...            ...     ...     ...   \n",
       "775     NaN     NaN        NaN  ...       NaN            NaN     NaN     NaN   \n",
       "776     NaN     NaN        NaN  ...       NaN            NaN     NaN     NaN   \n",
       "777     NaN     NaN        NaN  ...       NaN            NaN     NaN     NaN   \n",
       "778     NaN     NaN        NaN  ...       NaN            NaN     NaN     NaN   \n",
       "779     NaN     NaN        NaN  ...       NaN            NaN     NaN     NaN   \n",
       "\n",
       "     Yathecal72 Yathecal82 Yathedeu43 Yoishirrala98 Zhisrisu83 Zontibe81  \n",
       "0           NaN        NaN        NaN           NaN        NaN       NaN  \n",
       "1           NaN        NaN        NaN           NaN        NaN       NaN  \n",
       "2           NaN        NaN        NaN           NaN        NaN       NaN  \n",
       "3           NaN        NaN        NaN           NaN        NaN       NaN  \n",
       "4           NaN        NaN        NaN           NaN        NaN       NaN  \n",
       "..          ...        ...        ...           ...        ...       ...  \n",
       "775         NaN        NaN        NaN           NaN        NaN       NaN  \n",
       "776         NaN        NaN        NaN           NaN        NaN       NaN  \n",
       "777  Yathecal72        NaN        NaN           NaN        NaN       NaN  \n",
       "778         NaN        NaN        NaN           NaN        NaN       NaN  \n",
       "779         NaN        NaN        NaN           NaN        NaN       NaN  \n",
       "\n",
       "[780 rows x 576 columns]"
      ]
     },
     "execution_count": 67,
     "metadata": {},
     "output_type": "execute_result"
    }
   ],
   "source": [
    "\n",
    "g1 = purchase_data.groupby('SN')\n",
    "\n",
    "g1['SN'].apply(pd.DataFrame)"
   ]
  },
  {
   "cell_type": "code",
   "execution_count": 68,
   "metadata": {},
   "outputs": [
    {
     "data": {
      "text/html": [
       "<div>\n",
       "<style scoped>\n",
       "    .dataframe tbody tr th:only-of-type {\n",
       "        vertical-align: middle;\n",
       "    }\n",
       "\n",
       "    .dataframe tbody tr th {\n",
       "        vertical-align: top;\n",
       "    }\n",
       "\n",
       "    .dataframe thead th {\n",
       "        text-align: right;\n",
       "    }\n",
       "</style>\n",
       "<table border=\"1\" class=\"dataframe\">\n",
       "  <thead>\n",
       "    <tr style=\"text-align: right;\">\n",
       "      <th></th>\n",
       "      <th>Purchase ID</th>\n",
       "      <th>SN</th>\n",
       "      <th>Age</th>\n",
       "      <th>Gender</th>\n",
       "      <th>Item ID</th>\n",
       "      <th>Item Name</th>\n",
       "      <th>Price</th>\n",
       "      <th>Age Ranges</th>\n",
       "    </tr>\n",
       "  </thead>\n",
       "  <tbody>\n",
       "    <tr>\n",
       "      <th>554</th>\n",
       "      <td>554</td>\n",
       "      <td>Dyally87</td>\n",
       "      <td>22</td>\n",
       "      <td>Male</td>\n",
       "      <td>63</td>\n",
       "      <td>Stormfury Mace</td>\n",
       "      <td>4.99</td>\n",
       "      <td>20-24</td>\n",
       "    </tr>\n",
       "    <tr>\n",
       "      <th>189</th>\n",
       "      <td>189</td>\n",
       "      <td>Hiasri33</td>\n",
       "      <td>23</td>\n",
       "      <td>Male</td>\n",
       "      <td>63</td>\n",
       "      <td>Stormfury Mace</td>\n",
       "      <td>4.99</td>\n",
       "      <td>20-24</td>\n",
       "    </tr>\n",
       "    <tr>\n",
       "      <th>110</th>\n",
       "      <td>110</td>\n",
       "      <td>Ririp86</td>\n",
       "      <td>25</td>\n",
       "      <td>Male</td>\n",
       "      <td>139</td>\n",
       "      <td>Mercy, Katana of Dismay</td>\n",
       "      <td>4.94</td>\n",
       "      <td>25-29</td>\n",
       "    </tr>\n",
       "    <tr>\n",
       "      <th>246</th>\n",
       "      <td>246</td>\n",
       "      <td>Lirtilsa71</td>\n",
       "      <td>24</td>\n",
       "      <td>Male</td>\n",
       "      <td>139</td>\n",
       "      <td>Mercy, Katana of Dismay</td>\n",
       "      <td>4.94</td>\n",
       "      <td>20-24</td>\n",
       "    </tr>\n",
       "    <tr>\n",
       "      <th>493</th>\n",
       "      <td>493</td>\n",
       "      <td>Chanirrasta87</td>\n",
       "      <td>14</td>\n",
       "      <td>Male</td>\n",
       "      <td>139</td>\n",
       "      <td>Mercy, Katana of Dismay</td>\n",
       "      <td>4.94</td>\n",
       "      <td>10-14</td>\n",
       "    </tr>\n",
       "    <tr>\n",
       "      <th>...</th>\n",
       "      <td>...</td>\n",
       "      <td>...</td>\n",
       "      <td>...</td>\n",
       "      <td>...</td>\n",
       "      <td>...</td>\n",
       "      <td>...</td>\n",
       "      <td>...</td>\n",
       "      <td>...</td>\n",
       "    </tr>\n",
       "    <tr>\n",
       "      <th>586</th>\n",
       "      <td>586</td>\n",
       "      <td>Chanirra79</td>\n",
       "      <td>23</td>\n",
       "      <td>Female</td>\n",
       "      <td>155</td>\n",
       "      <td>War-Forged Gold Deflector</td>\n",
       "      <td>1.01</td>\n",
       "      <td>20-24</td>\n",
       "    </tr>\n",
       "    <tr>\n",
       "      <th>282</th>\n",
       "      <td>282</td>\n",
       "      <td>Aidai61</td>\n",
       "      <td>21</td>\n",
       "      <td>Male</td>\n",
       "      <td>155</td>\n",
       "      <td>War-Forged Gold Deflector</td>\n",
       "      <td>1.01</td>\n",
       "      <td>20-24</td>\n",
       "    </tr>\n",
       "    <tr>\n",
       "      <th>371</th>\n",
       "      <td>371</td>\n",
       "      <td>Eusurdeu49</td>\n",
       "      <td>23</td>\n",
       "      <td>Male</td>\n",
       "      <td>155</td>\n",
       "      <td>War-Forged Gold Deflector</td>\n",
       "      <td>1.01</td>\n",
       "      <td>20-24</td>\n",
       "    </tr>\n",
       "    <tr>\n",
       "      <th>63</th>\n",
       "      <td>63</td>\n",
       "      <td>Alo38</td>\n",
       "      <td>20</td>\n",
       "      <td>Male</td>\n",
       "      <td>125</td>\n",
       "      <td>Whistling Mithril Warblade</td>\n",
       "      <td>1.00</td>\n",
       "      <td>20-24</td>\n",
       "    </tr>\n",
       "    <tr>\n",
       "      <th>418</th>\n",
       "      <td>418</td>\n",
       "      <td>Marim28</td>\n",
       "      <td>25</td>\n",
       "      <td>Female</td>\n",
       "      <td>125</td>\n",
       "      <td>Whistling Mithril Warblade</td>\n",
       "      <td>1.00</td>\n",
       "      <td>25-29</td>\n",
       "    </tr>\n",
       "  </tbody>\n",
       "</table>\n",
       "<p>780 rows × 8 columns</p>\n",
       "</div>"
      ],
      "text/plain": [
       "     Purchase ID             SN  Age  Gender  Item ID  \\\n",
       "554          554       Dyally87   22    Male       63   \n",
       "189          189       Hiasri33   23    Male       63   \n",
       "110          110        Ririp86   25    Male      139   \n",
       "246          246     Lirtilsa71   24    Male      139   \n",
       "493          493  Chanirrasta87   14    Male      139   \n",
       "..           ...            ...  ...     ...      ...   \n",
       "586          586     Chanirra79   23  Female      155   \n",
       "282          282        Aidai61   21    Male      155   \n",
       "371          371     Eusurdeu49   23    Male      155   \n",
       "63            63          Alo38   20    Male      125   \n",
       "418          418        Marim28   25  Female      125   \n",
       "\n",
       "                      Item Name  Price Age Ranges  \n",
       "554              Stormfury Mace   4.99      20-24  \n",
       "189              Stormfury Mace   4.99      20-24  \n",
       "110     Mercy, Katana of Dismay   4.94      25-29  \n",
       "246     Mercy, Katana of Dismay   4.94      20-24  \n",
       "493     Mercy, Katana of Dismay   4.94      10-14  \n",
       "..                          ...    ...        ...  \n",
       "586   War-Forged Gold Deflector   1.01      20-24  \n",
       "282   War-Forged Gold Deflector   1.01      20-24  \n",
       "371   War-Forged Gold Deflector   1.01      20-24  \n",
       "63   Whistling Mithril Warblade   1.00      20-24  \n",
       "418  Whistling Mithril Warblade   1.00      25-29  \n",
       "\n",
       "[780 rows x 8 columns]"
      ]
     },
     "execution_count": 68,
     "metadata": {},
     "output_type": "execute_result"
    }
   ],
   "source": [
    "purchase_data.sort_values('Price', ascending=False)"
   ]
  },
  {
   "cell_type": "code",
   "execution_count": 69,
   "metadata": {},
   "outputs": [
    {
     "data": {
      "text/plain": [
       "Index(['Purchase ID', 'SN', 'Age', 'Gender', 'Item ID', 'Item Name', 'Price',\n",
       "       'Age Ranges'],\n",
       "      dtype='object')"
      ]
     },
     "execution_count": 69,
     "metadata": {},
     "output_type": "execute_result"
    }
   ],
   "source": [
    "purchase_data.columns"
   ]
  },
  {
   "cell_type": "code",
   "execution_count": 70,
   "metadata": {},
   "outputs": [],
   "source": [
    "Lisosia93_data = purchase_data.loc[purchase_data['SN'] == \"Lisosia93\"]\n",
    "Idastidru52_data = purchase_data.loc[purchase_data['SN'] == \"Idastidru52\"]\n",
    "Chamjask73_data = purchase_data.loc[purchase_data['SN'] == \"Chamjask73\"]\n",
    "Iral74_data = purchase_data.loc[purchase_data['SN'] == \"Iral74\"]\n",
    "Iskadarya95_data = purchase_data.loc[purchase_data['SN'] == \"Iskadarya95\"]"
   ]
  },
  {
   "cell_type": "code",
   "execution_count": 71,
   "metadata": {},
   "outputs": [
    {
     "name": "stdout",
     "output_type": "stream",
     "text": [
      "5\n",
      "3.79\n",
      "18.96\n"
     ]
    }
   ],
   "source": [
    "Lisosia93_purchases = len(Lisosia93_data[\"Purchase ID\"])\n",
    "print(Lisosia93_purchases)\n",
    "print(format(Lisosia93_data[\"Price\"].mean(),\".2f\"))\n",
    "Lisosia93_avg_price = Lisosia93_data[\"Price\"].mean()\n",
    "print(Lisosia93_data[\"Price\"].sum())\n",
    "Lisosia93_sum_price = Lisosia93_data[\"Price\"].sum()"
   ]
  },
  {
   "cell_type": "code",
   "execution_count": 72,
   "metadata": {},
   "outputs": [
    {
     "name": "stdout",
     "output_type": "stream",
     "text": [
      "4\n",
      "3.86\n",
      "15.45\n"
     ]
    }
   ],
   "source": [
    "Idastidru52_purchases = len(Idastidru52_data[\"Purchase ID\"])\n",
    "print(Idastidru52_purchases)\n",
    "print(format(Idastidru52_data[\"Price\"].mean(),\".2f\"))\n",
    "Idastidru52_avg_price = Idastidru52_data[\"Price\"].mean()\n",
    "print(Idastidru52_data[\"Price\"].sum())\n",
    "Idastidru52_sum_price = Idastidru52_data[\"Price\"].sum()"
   ]
  },
  {
   "cell_type": "code",
   "execution_count": 73,
   "metadata": {},
   "outputs": [
    {
     "name": "stdout",
     "output_type": "stream",
     "text": [
      "3\n",
      "4.61\n",
      "13.83\n"
     ]
    }
   ],
   "source": [
    "Chamjask73_purchases = len(Chamjask73_data[\"Purchase ID\"])\n",
    "print(Chamjask73_purchases)\n",
    "print(format(Chamjask73_data[\"Price\"].mean(),\".2f\"))\n",
    "Chamjask73_avg_price = Chamjask73_data[\"Price\"].mean()\n",
    "print(Chamjask73_data[\"Price\"].sum())\n",
    "Chamjask73_sum_price = Chamjask73_data[\"Price\"].sum()"
   ]
  },
  {
   "cell_type": "code",
   "execution_count": 74,
   "metadata": {},
   "outputs": [
    {
     "name": "stdout",
     "output_type": "stream",
     "text": [
      "4\n",
      "3.40\n",
      "13.619999999999997\n"
     ]
    }
   ],
   "source": [
    "Iral74_purchases = len(Iral74_data[\"Purchase ID\"])\n",
    "print(Iral74_purchases)\n",
    "print(format(Iral74_data[\"Price\"].mean(),\".2f\"))\n",
    "Iral74_avg_price = Iral74_data[\"Price\"].mean()\n",
    "print(Iral74_data[\"Price\"].sum())\n",
    "Iral74_sum_price = Iral74_data[\"Price\"].sum()"
   ]
  },
  {
   "cell_type": "code",
   "execution_count": 75,
   "metadata": {},
   "outputs": [
    {
     "name": "stdout",
     "output_type": "stream",
     "text": [
      "3\n",
      "4.37\n",
      "13.1\n"
     ]
    }
   ],
   "source": [
    "Iskadarya95_purchases = len(Iskadarya95_data[\"Purchase ID\"])\n",
    "print(Iskadarya95_purchases)\n",
    "print(format(Iskadarya95_data[\"Price\"].mean(),\".2f\"))\n",
    "Iskadarya95_avg_price = Iskadarya95_data[\"Price\"].mean()\n",
    "print(Iskadarya95_data[\"Price\"].sum())\n",
    "Iskadarya95_sum_price = Iskadarya95_data[\"Price\"].sum()"
   ]
  },
  {
   "cell_type": "code",
   "execution_count": 76,
   "metadata": {},
   "outputs": [
    {
     "data": {
      "text/html": [
       "<div>\n",
       "<style scoped>\n",
       "    .dataframe tbody tr th:only-of-type {\n",
       "        vertical-align: middle;\n",
       "    }\n",
       "\n",
       "    .dataframe tbody tr th {\n",
       "        vertical-align: top;\n",
       "    }\n",
       "\n",
       "    .dataframe thead th {\n",
       "        text-align: right;\n",
       "    }\n",
       "</style>\n",
       "<table border=\"1\" class=\"dataframe\">\n",
       "  <thead>\n",
       "    <tr style=\"text-align: right;\">\n",
       "      <th></th>\n",
       "      <th>Top Spender</th>\n",
       "      <th>Purchase Count</th>\n",
       "      <th>Average Purchase Price</th>\n",
       "      <th>Total Purchase Value</th>\n",
       "    </tr>\n",
       "  </thead>\n",
       "  <tbody>\n",
       "    <tr>\n",
       "      <th>0</th>\n",
       "      <td>Lisosia93</td>\n",
       "      <td>5</td>\n",
       "      <td>3.792000</td>\n",
       "      <td>18.96</td>\n",
       "    </tr>\n",
       "    <tr>\n",
       "      <th>1</th>\n",
       "      <td>Idastidru52</td>\n",
       "      <td>4</td>\n",
       "      <td>3.862500</td>\n",
       "      <td>15.45</td>\n",
       "    </tr>\n",
       "    <tr>\n",
       "      <th>2</th>\n",
       "      <td>Chamjask73</td>\n",
       "      <td>3</td>\n",
       "      <td>4.610000</td>\n",
       "      <td>13.83</td>\n",
       "    </tr>\n",
       "    <tr>\n",
       "      <th>3</th>\n",
       "      <td>Iral74</td>\n",
       "      <td>4</td>\n",
       "      <td>3.405000</td>\n",
       "      <td>13.62</td>\n",
       "    </tr>\n",
       "    <tr>\n",
       "      <th>4</th>\n",
       "      <td>Iskadarya95</td>\n",
       "      <td>3</td>\n",
       "      <td>4.366667</td>\n",
       "      <td>13.10</td>\n",
       "    </tr>\n",
       "  </tbody>\n",
       "</table>\n",
       "</div>"
      ],
      "text/plain": [
       "   Top Spender  Purchase Count  Average Purchase Price  Total Purchase Value\n",
       "0    Lisosia93               5                3.792000                 18.96\n",
       "1  Idastidru52               4                3.862500                 15.45\n",
       "2   Chamjask73               3                4.610000                 13.83\n",
       "3       Iral74               4                3.405000                 13.62\n",
       "4  Iskadarya95               3                4.366667                 13.10"
      ]
     },
     "execution_count": 76,
     "metadata": {},
     "output_type": "execute_result"
    }
   ],
   "source": [
    "top_spender_df = pd.DataFrame(\n",
    "    {\"Top Spender\": [ \"Lisosia93\", \"Idastidru52\", \"Chamjask73\", \"Iral74\", \"Iskadarya95\"],\n",
    "     \"Purchase Count\": [Lisosia93_purchases,Idastidru52_purchases,\n",
    "                     Chamjask73_purchases,Iral74_purchases,Iskadarya95_purchases],\n",
    "     \"Average Purchase Price\": [Lisosia93_avg_price,Idastidru52_avg_price,\n",
    "                     Chamjask73_avg_price,Iral74_avg_price,Iskadarya95_avg_price],\n",
    "     \"Total Purchase Value\": [Lisosia93_sum_price,Idastidru52_sum_price,\n",
    "                     Chamjask73_sum_price,Iral74_sum_price,Iskadarya95_sum_price\n",
    "],\n",
    "     }\n",
    ")\n",
    "top_spender_df"
   ]
  },
  {
   "cell_type": "markdown",
   "metadata": {},
   "source": [
    "## Most Popular Items"
   ]
  },
  {
   "cell_type": "markdown",
   "metadata": {},
   "source": [
    "* Retrieve the Item ID, Item Name, and Item Price columns\n",
    "\n",
    "\n",
    "* Group by Item ID and Item Name. Perform calculations to obtain purchase count, item price, and total purchase value\n",
    "\n",
    "\n",
    "* Create a summary data frame to hold the results\n",
    "\n",
    "\n",
    "* Sort the purchase count column in descending order\n",
    "\n",
    "\n",
    "* Optional: give the displayed data cleaner formatting\n",
    "\n",
    "\n",
    "* Display a preview of the summary data frame\n",
    "\n"
   ]
  },
  {
   "cell_type": "code",
   "execution_count": 77,
   "metadata": {},
   "outputs": [],
   "source": [
    "item_df = purchase_data[['Item ID','Item Name','Price']]"
   ]
  },
  {
   "cell_type": "code",
   "execution_count": 78,
   "metadata": {},
   "outputs": [],
   "source": [
    "grouped_item_df = item_df.groupby(['Item ID','Item Name'])"
   ]
  },
  {
   "cell_type": "code",
   "execution_count": null,
   "metadata": {},
   "outputs": [],
   "source": [
    "#item_df['Purchase Count'] "
   ]
  },
  {
   "cell_type": "code",
   "execution_count": null,
   "metadata": {},
   "outputs": [],
   "source": [
    "#item_df"
   ]
  },
  {
   "cell_type": "markdown",
   "metadata": {},
   "source": [
    "## Most Profitable Items"
   ]
  },
  {
   "cell_type": "markdown",
   "metadata": {},
   "source": [
    "* Sort the above table by total purchase value in descending order\n",
    "\n",
    "\n",
    "* Optional: give the displayed data cleaner formatting\n",
    "\n",
    "\n",
    "* Display a preview of the data frame\n",
    "\n"
   ]
  },
  {
   "cell_type": "code",
   "execution_count": null,
   "metadata": {
    "scrolled": true
   },
   "outputs": [],
   "source": []
  }
 ],
 "metadata": {
  "anaconda-cloud": {},
  "kernel_info": {
   "name": "python3"
  },
  "kernelspec": {
   "display_name": "Python 3",
   "language": "python",
   "name": "python3"
  },
  "language_info": {
   "codemirror_mode": {
    "name": "ipython",
    "version": 3
   },
   "file_extension": ".py",
   "mimetype": "text/x-python",
   "name": "python",
   "nbconvert_exporter": "python",
   "pygments_lexer": "ipython3",
   "version": "3.6.10"
  },
  "latex_envs": {
   "LaTeX_envs_menu_present": true,
   "autoclose": false,
   "autocomplete": true,
   "bibliofile": "biblio.bib",
   "cite_by": "apalike",
   "current_citInitial": 1,
   "eqLabelWithNumbers": true,
   "eqNumInitial": 1,
   "hotkeys": {
    "equation": "Ctrl-E",
    "itemize": "Ctrl-I"
   },
   "labels_anchors": false,
   "latex_user_defs": false,
   "report_style_numbering": false,
   "user_envs_cfg": false
  },
  "nteract": {
   "version": "0.2.0"
  }
 },
 "nbformat": 4,
 "nbformat_minor": 2
}
